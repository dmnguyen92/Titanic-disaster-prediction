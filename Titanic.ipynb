{
 "cells": [
  {
   "cell_type": "markdown",
   "metadata": {},
   "source": [
    "# Titanic Survivor - Data Science for beginners\n",
    "### ** Nguyen Dang Minh, PhD **\n",
    "\n",
    "* [**1. Introduction**](#ch1)\n",
    "\n",
    "* [**2. Data Preparation**](#ch2)\n",
    "    * [2.1. Import the data](#ch2.1)\n",
    "    * [2.2. Fill in missing data](#ch2.2)\n",
    "    \n",
    "* [**3. Features Extraction**](#ch3)\n",
    "    * [3.1. General overview](#ch3.1)\n",
    "    * [3.2. Analysis on each feature](#ch3.2)\n",
    "    \n",
    "* [**4. Building Classification Model**](#ch4)\n",
    "    * [4.1. Writing the classification function](#ch4.1)\n",
    "    * [4.2. Prediction with differrent classification model](#4.2)\n",
    "    \n",
    "* [**5. Predicting The Test Data**](#ch5)\n",
    "    "
   ]
  },
  {
   "cell_type": "markdown",
   "metadata": {},
   "source": [
    "<a id=\"ch1\"></a>\n",
    "\n",
    "## 1. Introduction\n",
    "\n",
    "This is the first practice project after I have completed the introduction course [Machine Learning A-Z on Udemy](https://www.udemy.com/machinelearning/) and the first two courses of [Andrew Ng 's deep learning specialization](https://www.coursera.org/specializations/deep-learning).\n",
    "\n",
    "The goal of the project is to predict whether a passenger onboard the infamous Titanic can survive the accident or not. In order to do that, the computer will be trained using the dataset from Kaggle's [\"Titanic: Machine Learning from Disaster\"](https://www.kaggle.com/c/titanic) competition. This work focuses strongly on cleaning, preprocessing data (**Section 2**) and features extraction (**Section 3**). Then in **Section 4** I will apply classical classification techniques to gives prediction for the dataset.\n",
    "\n",
    "\n",
    "<table class='image'>\n",
    "<img src=\"https://d.ibtimes.co.uk/en/full/257614/more-1500-people-died-after-titanic-sank-15-april-1912.jpg?w=547&e=a163ac70564918f8e00263e578c939e1\" ></img>\n",
    "<a id='fig1'><center> The Titanic disaster </center></a>\n",
    "</table>"
   ]
  },
  {
   "cell_type": "code",
   "execution_count": 1,
   "metadata": {},
   "outputs": [],
   "source": [
    "# Import libraries\n",
    "%matplotlib inline\n",
    "import matplotlib.pyplot as plt\n",
    "import pandas as pd\n",
    "import numpy as np\n",
    "import seaborn as sns\n",
    "\n",
    "from sklearn.feature_selection import RFE\n",
    "from sklearn.preprocessing import LabelEncoder, OneHotEncoder\n",
    "from sklearn.linear_model import LinearRegression\n",
    "from sklearn.ensemble import ExtraTreesClassifier\n",
    "from sklearn.feature_selection import SelectFromModel\n",
    "from sklearn.model_selection import train_test_split\n",
    "from sklearn.svm import SVC\n",
    "from sklearn.neighbors import KNeighborsClassifier\n",
    "from sklearn.ensemble import RandomForestClassifier\n",
    "from sklearn.tree import DecisionTreeClassifier\n",
    "from sklearn.linear_model import LogisticRegression\n",
    "from sklearn.model_selection import GridSearchCV\n",
    "from sklearn.metrics import accuracy_score\n",
    "\n",
    "import lightgbm as lgb\n",
    "import xgboost as xgb\n",
    "from mlxtend.classifier import StackingCVClassifier, EnsembleVoteClassifier\n",
    "import time"
   ]
  },
  {
   "cell_type": "code",
   "execution_count": 2,
   "metadata": {},
   "outputs": [],
   "source": [
    "import warnings\n",
    "warnings.filterwarnings(\"ignore\")\n",
    "from matplotlib import rcParams\n",
    "rcParams['font.size']=14"
   ]
  },
  {
   "cell_type": "markdown",
   "metadata": {},
   "source": [
    "<a id=\"ch2\"></a>\n",
    "\n",
    "## 2. Data Preparation\n",
    "\n",
    "<a id=\"ch2.1\"></a>\n",
    "\n",
    "### 2.1. Import the data"
   ]
  },
  {
   "cell_type": "code",
   "execution_count": 3,
   "metadata": {
    "scrolled": true
   },
   "outputs": [
    {
     "data": {
      "text/html": [
       "<div>\n",
       "<style scoped>\n",
       "    .dataframe tbody tr th:only-of-type {\n",
       "        vertical-align: middle;\n",
       "    }\n",
       "\n",
       "    .dataframe tbody tr th {\n",
       "        vertical-align: top;\n",
       "    }\n",
       "\n",
       "    .dataframe thead th {\n",
       "        text-align: right;\n",
       "    }\n",
       "</style>\n",
       "<table border=\"1\" class=\"dataframe\">\n",
       "  <thead>\n",
       "    <tr style=\"text-align: right;\">\n",
       "      <th></th>\n",
       "      <th>PassengerId</th>\n",
       "      <th>Survived</th>\n",
       "      <th>Pclass</th>\n",
       "      <th>Name</th>\n",
       "      <th>Sex</th>\n",
       "      <th>Age</th>\n",
       "      <th>SibSp</th>\n",
       "      <th>Parch</th>\n",
       "      <th>Ticket</th>\n",
       "      <th>Fare</th>\n",
       "      <th>Cabin</th>\n",
       "      <th>Embarked</th>\n",
       "    </tr>\n",
       "  </thead>\n",
       "  <tbody>\n",
       "    <tr>\n",
       "      <th>0</th>\n",
       "      <td>1</td>\n",
       "      <td>0</td>\n",
       "      <td>3</td>\n",
       "      <td>Braund, Mr. Owen Harris</td>\n",
       "      <td>male</td>\n",
       "      <td>22.0</td>\n",
       "      <td>1</td>\n",
       "      <td>0</td>\n",
       "      <td>A/5 21171</td>\n",
       "      <td>7.2500</td>\n",
       "      <td>NaN</td>\n",
       "      <td>S</td>\n",
       "    </tr>\n",
       "    <tr>\n",
       "      <th>1</th>\n",
       "      <td>2</td>\n",
       "      <td>1</td>\n",
       "      <td>1</td>\n",
       "      <td>Cumings, Mrs. John Bradley (Florence Briggs Th...</td>\n",
       "      <td>female</td>\n",
       "      <td>38.0</td>\n",
       "      <td>1</td>\n",
       "      <td>0</td>\n",
       "      <td>PC 17599</td>\n",
       "      <td>71.2833</td>\n",
       "      <td>C85</td>\n",
       "      <td>C</td>\n",
       "    </tr>\n",
       "    <tr>\n",
       "      <th>2</th>\n",
       "      <td>3</td>\n",
       "      <td>1</td>\n",
       "      <td>3</td>\n",
       "      <td>Heikkinen, Miss. Laina</td>\n",
       "      <td>female</td>\n",
       "      <td>26.0</td>\n",
       "      <td>0</td>\n",
       "      <td>0</td>\n",
       "      <td>STON/O2. 3101282</td>\n",
       "      <td>7.9250</td>\n",
       "      <td>NaN</td>\n",
       "      <td>S</td>\n",
       "    </tr>\n",
       "    <tr>\n",
       "      <th>3</th>\n",
       "      <td>4</td>\n",
       "      <td>1</td>\n",
       "      <td>1</td>\n",
       "      <td>Futrelle, Mrs. Jacques Heath (Lily May Peel)</td>\n",
       "      <td>female</td>\n",
       "      <td>35.0</td>\n",
       "      <td>1</td>\n",
       "      <td>0</td>\n",
       "      <td>113803</td>\n",
       "      <td>53.1000</td>\n",
       "      <td>C123</td>\n",
       "      <td>S</td>\n",
       "    </tr>\n",
       "    <tr>\n",
       "      <th>4</th>\n",
       "      <td>5</td>\n",
       "      <td>0</td>\n",
       "      <td>3</td>\n",
       "      <td>Allen, Mr. William Henry</td>\n",
       "      <td>male</td>\n",
       "      <td>35.0</td>\n",
       "      <td>0</td>\n",
       "      <td>0</td>\n",
       "      <td>373450</td>\n",
       "      <td>8.0500</td>\n",
       "      <td>NaN</td>\n",
       "      <td>S</td>\n",
       "    </tr>\n",
       "  </tbody>\n",
       "</table>\n",
       "</div>"
      ],
      "text/plain": [
       "   PassengerId  Survived  Pclass  \\\n",
       "0            1         0       3   \n",
       "1            2         1       1   \n",
       "2            3         1       3   \n",
       "3            4         1       1   \n",
       "4            5         0       3   \n",
       "\n",
       "                                                Name     Sex   Age  SibSp  \\\n",
       "0                            Braund, Mr. Owen Harris    male  22.0      1   \n",
       "1  Cumings, Mrs. John Bradley (Florence Briggs Th...  female  38.0      1   \n",
       "2                             Heikkinen, Miss. Laina  female  26.0      0   \n",
       "3       Futrelle, Mrs. Jacques Heath (Lily May Peel)  female  35.0      1   \n",
       "4                           Allen, Mr. William Henry    male  35.0      0   \n",
       "\n",
       "   Parch            Ticket     Fare Cabin Embarked  \n",
       "0      0         A/5 21171   7.2500   NaN        S  \n",
       "1      0          PC 17599  71.2833   C85        C  \n",
       "2      0  STON/O2. 3101282   7.9250   NaN        S  \n",
       "3      0            113803  53.1000  C123        S  \n",
       "4      0            373450   8.0500   NaN        S  "
      ]
     },
     "execution_count": 3,
     "metadata": {},
     "output_type": "execute_result"
    }
   ],
   "source": [
    "dataset = pd.read_csv('input/train.csv')\n",
    "dataset.head()"
   ]
  },
  {
   "cell_type": "code",
   "execution_count": 4,
   "metadata": {},
   "outputs": [],
   "source": [
    "# Encode sex data so we can better viualize it\n",
    "dataset['Sex'] = dataset['Sex'].map({'male':0, 'female':1}).astype(int)"
   ]
  },
  {
   "cell_type": "markdown",
   "metadata": {},
   "source": [
    "<a id=\"ch2.2\"></a>\n",
    "\n",
    "### 2.2. Fill in missing data\n",
    "\n",
    "Let's see which column has missing data"
   ]
  },
  {
   "cell_type": "code",
   "execution_count": 5,
   "metadata": {},
   "outputs": [
    {
     "name": "stdout",
     "output_type": "stream",
     "text": [
      "PassengerId    False\n",
      "Survived       False\n",
      "Pclass         False\n",
      "Name           False\n",
      "Sex            False\n",
      "Age             True\n",
      "SibSp          False\n",
      "Parch          False\n",
      "Ticket         False\n",
      "Fare           False\n",
      "Cabin           True\n",
      "Embarked        True\n",
      "dtype: bool\n"
     ]
    }
   ],
   "source": [
    "print(dataset.isnull().any())"
   ]
  },
  {
   "cell_type": "markdown",
   "metadata": {},
   "source": [
    "So we have missing data in `Age`, `Cabin` and `Embark`. Among which, `Cabin` has too many missing. Furthermore, intuitively it should not play any role in one's chance of survival, so we can safely ignore it. This leaves us with `Age` and `Embark`\n",
    "\n",
    "**Fill in `Embark`**"
   ]
  },
  {
   "cell_type": "code",
   "execution_count": 6,
   "metadata": {},
   "outputs": [
    {
     "data": {
      "text/plain": [
       "S    644\n",
       "C    168\n",
       "Q     77\n",
       "Name: Embarked, dtype: int64"
      ]
     },
     "execution_count": 6,
     "metadata": {},
     "output_type": "execute_result"
    }
   ],
   "source": [
    "dataset['Embarked'].value_counts()"
   ]
  },
  {
   "cell_type": "markdown",
   "metadata": {},
   "source": [
    "For this one, we go with majority since more than 80% of passenger boards from the same place (Southampton - `S`). We fill all missing data with this value and encode it."
   ]
  },
  {
   "cell_type": "code",
   "execution_count": 7,
   "metadata": {},
   "outputs": [
    {
     "data": {
      "text/plain": [
       "0    0\n",
       "1    1\n",
       "2    0\n",
       "3    0\n",
       "4    0\n",
       "Name: Embarked, dtype: int64"
      ]
     },
     "execution_count": 7,
     "metadata": {},
     "output_type": "execute_result"
    }
   ],
   "source": [
    "dataset['Embarked'] = dataset['Embarked'].fillna('S')\n",
    "dataset['Embarked'] = dataset['Embarked'].map({'S':0, 'C':1, 'Q':2}).astype(int)\n",
    "dataset['Embarked'].head()"
   ]
  },
  {
   "cell_type": "markdown",
   "metadata": {},
   "source": [
    "**Fill in `Age`**\n",
    "\n",
    "Age is more tricky since we cannot simply follow majority. Taking the mean is also too simple. To gain a clue, let's look at how all the data are correlated with each other"
   ]
  },
  {
   "cell_type": "code",
   "execution_count": 8,
   "metadata": {},
   "outputs": [
    {
     "data": {
      "text/html": [
       "<div>\n",
       "<style scoped>\n",
       "    .dataframe tbody tr th:only-of-type {\n",
       "        vertical-align: middle;\n",
       "    }\n",
       "\n",
       "    .dataframe tbody tr th {\n",
       "        vertical-align: top;\n",
       "    }\n",
       "\n",
       "    .dataframe thead th {\n",
       "        text-align: right;\n",
       "    }\n",
       "</style>\n",
       "<table border=\"1\" class=\"dataframe\">\n",
       "  <thead>\n",
       "    <tr style=\"text-align: right;\">\n",
       "      <th></th>\n",
       "      <th>PassengerId</th>\n",
       "      <th>Survived</th>\n",
       "      <th>Pclass</th>\n",
       "      <th>Sex</th>\n",
       "      <th>Age</th>\n",
       "      <th>SibSp</th>\n",
       "      <th>Parch</th>\n",
       "      <th>Fare</th>\n",
       "      <th>Embarked</th>\n",
       "    </tr>\n",
       "  </thead>\n",
       "  <tbody>\n",
       "    <tr>\n",
       "      <th>PassengerId</th>\n",
       "      <td>1.000000</td>\n",
       "      <td>-0.005007</td>\n",
       "      <td>-0.035144</td>\n",
       "      <td>-0.042939</td>\n",
       "      <td>0.036847</td>\n",
       "      <td>-0.057527</td>\n",
       "      <td>-0.001652</td>\n",
       "      <td>0.012658</td>\n",
       "      <td>-0.030467</td>\n",
       "    </tr>\n",
       "    <tr>\n",
       "      <th>Survived</th>\n",
       "      <td>-0.005007</td>\n",
       "      <td>1.000000</td>\n",
       "      <td>-0.338481</td>\n",
       "      <td>0.543351</td>\n",
       "      <td>-0.077221</td>\n",
       "      <td>-0.035322</td>\n",
       "      <td>0.081629</td>\n",
       "      <td>0.257307</td>\n",
       "      <td>0.106811</td>\n",
       "    </tr>\n",
       "    <tr>\n",
       "      <th>Pclass</th>\n",
       "      <td>-0.035144</td>\n",
       "      <td>-0.338481</td>\n",
       "      <td>1.000000</td>\n",
       "      <td>-0.131900</td>\n",
       "      <td>-0.369226</td>\n",
       "      <td>0.083081</td>\n",
       "      <td>0.018443</td>\n",
       "      <td>-0.549500</td>\n",
       "      <td>0.045702</td>\n",
       "    </tr>\n",
       "    <tr>\n",
       "      <th>Sex</th>\n",
       "      <td>-0.042939</td>\n",
       "      <td>0.543351</td>\n",
       "      <td>-0.131900</td>\n",
       "      <td>1.000000</td>\n",
       "      <td>-0.093254</td>\n",
       "      <td>0.114631</td>\n",
       "      <td>0.245489</td>\n",
       "      <td>0.182333</td>\n",
       "      <td>0.116569</td>\n",
       "    </tr>\n",
       "    <tr>\n",
       "      <th>Age</th>\n",
       "      <td>0.036847</td>\n",
       "      <td>-0.077221</td>\n",
       "      <td>-0.369226</td>\n",
       "      <td>-0.093254</td>\n",
       "      <td>1.000000</td>\n",
       "      <td>-0.308247</td>\n",
       "      <td>-0.189119</td>\n",
       "      <td>0.096067</td>\n",
       "      <td>0.010171</td>\n",
       "    </tr>\n",
       "    <tr>\n",
       "      <th>SibSp</th>\n",
       "      <td>-0.057527</td>\n",
       "      <td>-0.035322</td>\n",
       "      <td>0.083081</td>\n",
       "      <td>0.114631</td>\n",
       "      <td>-0.308247</td>\n",
       "      <td>1.000000</td>\n",
       "      <td>0.414838</td>\n",
       "      <td>0.159651</td>\n",
       "      <td>-0.059961</td>\n",
       "    </tr>\n",
       "    <tr>\n",
       "      <th>Parch</th>\n",
       "      <td>-0.001652</td>\n",
       "      <td>0.081629</td>\n",
       "      <td>0.018443</td>\n",
       "      <td>0.245489</td>\n",
       "      <td>-0.189119</td>\n",
       "      <td>0.414838</td>\n",
       "      <td>1.000000</td>\n",
       "      <td>0.216225</td>\n",
       "      <td>-0.078665</td>\n",
       "    </tr>\n",
       "    <tr>\n",
       "      <th>Fare</th>\n",
       "      <td>0.012658</td>\n",
       "      <td>0.257307</td>\n",
       "      <td>-0.549500</td>\n",
       "      <td>0.182333</td>\n",
       "      <td>0.096067</td>\n",
       "      <td>0.159651</td>\n",
       "      <td>0.216225</td>\n",
       "      <td>1.000000</td>\n",
       "      <td>0.062142</td>\n",
       "    </tr>\n",
       "    <tr>\n",
       "      <th>Embarked</th>\n",
       "      <td>-0.030467</td>\n",
       "      <td>0.106811</td>\n",
       "      <td>0.045702</td>\n",
       "      <td>0.116569</td>\n",
       "      <td>0.010171</td>\n",
       "      <td>-0.059961</td>\n",
       "      <td>-0.078665</td>\n",
       "      <td>0.062142</td>\n",
       "      <td>1.000000</td>\n",
       "    </tr>\n",
       "  </tbody>\n",
       "</table>\n",
       "</div>"
      ],
      "text/plain": [
       "             PassengerId  Survived    Pclass       Sex       Age     SibSp  \\\n",
       "PassengerId     1.000000 -0.005007 -0.035144 -0.042939  0.036847 -0.057527   \n",
       "Survived       -0.005007  1.000000 -0.338481  0.543351 -0.077221 -0.035322   \n",
       "Pclass         -0.035144 -0.338481  1.000000 -0.131900 -0.369226  0.083081   \n",
       "Sex            -0.042939  0.543351 -0.131900  1.000000 -0.093254  0.114631   \n",
       "Age             0.036847 -0.077221 -0.369226 -0.093254  1.000000 -0.308247   \n",
       "SibSp          -0.057527 -0.035322  0.083081  0.114631 -0.308247  1.000000   \n",
       "Parch          -0.001652  0.081629  0.018443  0.245489 -0.189119  0.414838   \n",
       "Fare            0.012658  0.257307 -0.549500  0.182333  0.096067  0.159651   \n",
       "Embarked       -0.030467  0.106811  0.045702  0.116569  0.010171 -0.059961   \n",
       "\n",
       "                Parch      Fare  Embarked  \n",
       "PassengerId -0.001652  0.012658 -0.030467  \n",
       "Survived     0.081629  0.257307  0.106811  \n",
       "Pclass       0.018443 -0.549500  0.045702  \n",
       "Sex          0.245489  0.182333  0.116569  \n",
       "Age         -0.189119  0.096067  0.010171  \n",
       "SibSp        0.414838  0.159651 -0.059961  \n",
       "Parch        1.000000  0.216225 -0.078665  \n",
       "Fare         0.216225  1.000000  0.062142  \n",
       "Embarked    -0.078665  0.062142  1.000000  "
      ]
     },
     "execution_count": 8,
     "metadata": {},
     "output_type": "execute_result"
    }
   ],
   "source": [
    "dataset.corr()"
   ]
  },
  {
   "cell_type": "markdown",
   "metadata": {},
   "source": [
    "Among all features, `Age` seems to have good correlation with `Pclass` and `SibSp`, so let's see their relationships."
   ]
  },
  {
   "cell_type": "code",
   "execution_count": 9,
   "metadata": {},
   "outputs": [
    {
     "data": {
      "text/plain": [
       "Text(0.5, 0.98, '')"
      ]
     },
     "execution_count": 9,
     "metadata": {},
     "output_type": "execute_result"
    },
    {
     "data": {
      "image/png": "[encoded data removed]",
      "text/plain": [
       "<Figure size 432x288 with 1 Axes>"
      ]
     },
     "metadata": {
      "needs_background": "light"
     },
     "output_type": "display_data"
    },
    {
     "data": {
      "image/png": "[encoded data removed]",
      "text/plain": [
       "<Figure size 432x288 with 1 Axes>"
      ]
     },
     "metadata": {
      "needs_background": "light"
     },
     "output_type": "display_data"
    }
   ],
   "source": [
    "# Extract nan in age\n",
    "data_age = dataset.dropna(subset=['Age'])\n",
    "data_no_age = dataset[dataset['Age'].isnull()]\n",
    "\n",
    "# Age vs Pclass\n",
    "ax = data_age.boxplot(column='Age', by='Pclass', grid=False)\n",
    "ax.set_ylabel('Ages')\n",
    "plt.suptitle(\"\")\n",
    "\n",
    "# Age vs SibSp\n",
    "ax = data_age.boxplot(column='Age', by='SibSp', grid=False)\n",
    "ax.set_ylabel('Ages')\n",
    "plt.suptitle(\"\")\n"
   ]
  },
  {
   "cell_type": "markdown",
   "metadata": {},
   "source": [
    "The data makes sense since it shows that younger passengers tend to travel in a lower class and with more siblings. So let's build a linear regression model to predict `Age` from `Pclass` and `SibSp`"
   ]
  },
  {
   "cell_type": "code",
   "execution_count": 10,
   "metadata": {},
   "outputs": [],
   "source": [
    "# Extract data for prediction\n",
    "X_fit_age = data_age[['Pclass', 'SibSp']].loc[:].values\n",
    "Y_fit_age = data_age['Age'].loc[:].values.reshape(-1,1)\n",
    "\n",
    "# Building and fitting the model\n",
    "regressor_fill_age = LinearRegression()\n",
    "regressor_fill_age.fit(X_fit_age, Y_fit_age)\n",
    "\n",
    "# Gives prediction\n",
    "X_pred_age = data_no_age[['Pclass', 'SibSp']].loc[:].values\n",
    "X_pred_age[:,1][X_pred_age[:,1]>5] = 5\n",
    "data_no_age['Age'] = regressor_fill_age.predict(X_pred_age)\n",
    "\n",
    "# Fill in the missing data\n",
    "data_filled = pd.concat([data_age, data_no_age])\n",
    "data_filled['Age'] = data_filled['Age'].astype(int)"
   ]
  },
  {
   "cell_type": "code",
   "execution_count": 11,
   "metadata": {},
   "outputs": [
    {
     "name": "stdout",
     "output_type": "stream",
     "text": [
      "PassengerId    False\n",
      "Survived       False\n",
      "Pclass         False\n",
      "Name           False\n",
      "Sex            False\n",
      "Age            False\n",
      "SibSp          False\n",
      "Parch          False\n",
      "Ticket         False\n",
      "Fare           False\n",
      "Cabin           True\n",
      "Embarked       False\n",
      "dtype: bool\n"
     ]
    }
   ],
   "source": [
    "print(data_filled.isnull().any())"
   ]
  },
  {
   "cell_type": "markdown",
   "metadata": {},
   "source": [
    "Good! Now all missing data except for `Cabin` has been taken care of. Now let's move to feature extraction"
   ]
  },
  {
   "cell_type": "markdown",
   "metadata": {},
   "source": [
    "<a id=\"ch3\"></a>\n",
    "\n",
    "## 3. Features Extraction\n",
    "\n",
    "<a id=\"ch3.1\"></a>\n",
    "\n",
    "### 3.1. General overview"
   ]
  },
  {
   "cell_type": "code",
   "execution_count": 12,
   "metadata": {},
   "outputs": [
    {
     "data": {
      "text/html": [
       "<div>\n",
       "<style scoped>\n",
       "    .dataframe tbody tr th:only-of-type {\n",
       "        vertical-align: middle;\n",
       "    }\n",
       "\n",
       "    .dataframe tbody tr th {\n",
       "        vertical-align: top;\n",
       "    }\n",
       "\n",
       "    .dataframe thead th {\n",
       "        text-align: right;\n",
       "    }\n",
       "</style>\n",
       "<table border=\"1\" class=\"dataframe\">\n",
       "  <thead>\n",
       "    <tr style=\"text-align: right;\">\n",
       "      <th></th>\n",
       "      <th>PassengerId</th>\n",
       "      <th>Survived</th>\n",
       "      <th>Pclass</th>\n",
       "      <th>Sex</th>\n",
       "      <th>Age</th>\n",
       "      <th>SibSp</th>\n",
       "      <th>Parch</th>\n",
       "      <th>Fare</th>\n",
       "      <th>Embarked</th>\n",
       "    </tr>\n",
       "  </thead>\n",
       "  <tbody>\n",
       "    <tr>\n",
       "      <th>count</th>\n",
       "      <td>891.000000</td>\n",
       "      <td>891.000000</td>\n",
       "      <td>891.000000</td>\n",
       "      <td>891.000000</td>\n",
       "      <td>891.000000</td>\n",
       "      <td>891.000000</td>\n",
       "      <td>891.000000</td>\n",
       "      <td>891.000000</td>\n",
       "      <td>891.000000</td>\n",
       "    </tr>\n",
       "    <tr>\n",
       "      <th>mean</th>\n",
       "      <td>446.000000</td>\n",
       "      <td>0.383838</td>\n",
       "      <td>2.308642</td>\n",
       "      <td>0.352413</td>\n",
       "      <td>29.224467</td>\n",
       "      <td>0.523008</td>\n",
       "      <td>0.381594</td>\n",
       "      <td>32.204208</td>\n",
       "      <td>0.361392</td>\n",
       "    </tr>\n",
       "    <tr>\n",
       "      <th>std</th>\n",
       "      <td>257.353842</td>\n",
       "      <td>0.486592</td>\n",
       "      <td>0.836071</td>\n",
       "      <td>0.477990</td>\n",
       "      <td>13.425747</td>\n",
       "      <td>1.102743</td>\n",
       "      <td>0.806057</td>\n",
       "      <td>49.693429</td>\n",
       "      <td>0.635673</td>\n",
       "    </tr>\n",
       "    <tr>\n",
       "      <th>min</th>\n",
       "      <td>1.000000</td>\n",
       "      <td>0.000000</td>\n",
       "      <td>1.000000</td>\n",
       "      <td>0.000000</td>\n",
       "      <td>0.000000</td>\n",
       "      <td>0.000000</td>\n",
       "      <td>0.000000</td>\n",
       "      <td>0.000000</td>\n",
       "      <td>0.000000</td>\n",
       "    </tr>\n",
       "    <tr>\n",
       "      <th>25%</th>\n",
       "      <td>223.500000</td>\n",
       "      <td>0.000000</td>\n",
       "      <td>2.000000</td>\n",
       "      <td>0.000000</td>\n",
       "      <td>22.000000</td>\n",
       "      <td>0.000000</td>\n",
       "      <td>0.000000</td>\n",
       "      <td>7.910400</td>\n",
       "      <td>0.000000</td>\n",
       "    </tr>\n",
       "    <tr>\n",
       "      <th>50%</th>\n",
       "      <td>446.000000</td>\n",
       "      <td>0.000000</td>\n",
       "      <td>3.000000</td>\n",
       "      <td>0.000000</td>\n",
       "      <td>27.000000</td>\n",
       "      <td>0.000000</td>\n",
       "      <td>0.000000</td>\n",
       "      <td>14.454200</td>\n",
       "      <td>0.000000</td>\n",
       "    </tr>\n",
       "    <tr>\n",
       "      <th>75%</th>\n",
       "      <td>668.500000</td>\n",
       "      <td>1.000000</td>\n",
       "      <td>3.000000</td>\n",
       "      <td>1.000000</td>\n",
       "      <td>36.000000</td>\n",
       "      <td>1.000000</td>\n",
       "      <td>0.000000</td>\n",
       "      <td>31.000000</td>\n",
       "      <td>1.000000</td>\n",
       "    </tr>\n",
       "    <tr>\n",
       "      <th>max</th>\n",
       "      <td>891.000000</td>\n",
       "      <td>1.000000</td>\n",
       "      <td>3.000000</td>\n",
       "      <td>1.000000</td>\n",
       "      <td>80.000000</td>\n",
       "      <td>8.000000</td>\n",
       "      <td>6.000000</td>\n",
       "      <td>512.329200</td>\n",
       "      <td>2.000000</td>\n",
       "    </tr>\n",
       "  </tbody>\n",
       "</table>\n",
       "</div>"
      ],
      "text/plain": [
       "       PassengerId    Survived      Pclass         Sex         Age  \\\n",
       "count   891.000000  891.000000  891.000000  891.000000  891.000000   \n",
       "mean    446.000000    0.383838    2.308642    0.352413   29.224467   \n",
       "std     257.353842    0.486592    0.836071    0.477990   13.425747   \n",
       "min       1.000000    0.000000    1.000000    0.000000    0.000000   \n",
       "25%     223.500000    0.000000    2.000000    0.000000   22.000000   \n",
       "50%     446.000000    0.000000    3.000000    0.000000   27.000000   \n",
       "75%     668.500000    1.000000    3.000000    1.000000   36.000000   \n",
       "max     891.000000    1.000000    3.000000    1.000000   80.000000   \n",
       "\n",
       "            SibSp       Parch        Fare    Embarked  \n",
       "count  891.000000  891.000000  891.000000  891.000000  \n",
       "mean     0.523008    0.381594   32.204208    0.361392  \n",
       "std      1.102743    0.806057   49.693429    0.635673  \n",
       "min      0.000000    0.000000    0.000000    0.000000  \n",
       "25%      0.000000    0.000000    7.910400    0.000000  \n",
       "50%      0.000000    0.000000   14.454200    0.000000  \n",
       "75%      1.000000    0.000000   31.000000    1.000000  \n",
       "max      8.000000    6.000000  512.329200    2.000000  "
      ]
     },
     "execution_count": 12,
     "metadata": {},
     "output_type": "execute_result"
    }
   ],
   "source": [
    "data_filled.describe()"
   ]
  },
  {
   "cell_type": "markdown",
   "metadata": {},
   "source": [
    "**Distribution of each features**"
   ]
  },
  {
   "cell_type": "code",
   "execution_count": 13,
   "metadata": {},
   "outputs": [
    {
     "data": {
      "image/png": "[encoded data removed]",
      "text/plain": [
       "<Figure size 720x864 with 8 Axes>"
      ]
     },
     "metadata": {
      "needs_background": "light"
     },
     "output_type": "display_data"
    }
   ],
   "source": [
    "fig = plt.figure(figsize=(10, 12))\n",
    "\n",
    "ax1 = fig.add_subplot(421)\n",
    "plt.hist(data_filled['Survived'], edgecolor='black')\n",
    "plt.title('Survived')\n",
    "\n",
    "ax2 = fig.add_subplot(422)\n",
    "plt.hist(data_filled['Pclass'], edgecolor='black')\n",
    "plt.title('Pclass')\n",
    "\n",
    "ax2 = fig.add_subplot(423)\n",
    "plt.hist(data_filled['Sex'], edgecolor='black')\n",
    "plt.title('Sex')\n",
    "\n",
    "ax2 = fig.add_subplot(424)\n",
    "plt.hist(data_filled['Age'], edgecolor='black')\n",
    "plt.title('Age')\n",
    "\n",
    "ax2 = fig.add_subplot(425)\n",
    "plt.hist(data_filled['SibSp'], edgecolor='black')\n",
    "plt.title('SibSp')\n",
    "\n",
    "ax2 = fig.add_subplot(426)\n",
    "plt.hist(data_filled['Parch'], edgecolor='black')\n",
    "plt.title('Parch')\n",
    "\n",
    "ax2 = fig.add_subplot(427)\n",
    "plt.hist(data_filled['Fare'], edgecolor='black')\n",
    "plt.title('Fare')\n",
    "\n",
    "ax2 = fig.add_subplot(428)\n",
    "plt.hist(data_filled['Embarked'], edgecolor='black')\n",
    "plt.title('Embarked')\n",
    "\n",
    "plt.tight_layout()"
   ]
  },
  {
   "cell_type": "markdown",
   "metadata": {},
   "source": [
    "**Some general observation:**\n",
    "- The training set contains 891 passenger, out of which 38% survived the incident. The total actual number of passenger is 2224 with 32% survivors.\n",
    "- The majority of passenger stay in third class.\n",
    "- 65% of passenger are male.\n",
    "- Passenger's age ranges from 1 to 80 with the majority falls between 20 and 40.\n",
    "- Most passenger travels alone\n",
    "- There is a huge variety in fare, which goes up to 512 USD, more than 100 times higher compared to the smallest fare.\n",
    "- Most passengers boarded the ship from Southampton\n",
    "\n",
    "**Assumptions to be made before making detailed analysis:**\n",
    "- `PassengerId` and `Name` should not contribute to one's chance of survival.\n",
    "- Women and children should have better chance of survival since they are given priority on the saving boats\n",
    "- Passenger stay in more luxurious class should have better chance of survival since the exit is more accessible\n",
    "- People travel with families should have better chance of survival."
   ]
  },
  {
   "cell_type": "markdown",
   "metadata": {},
   "source": [
    "<a id=\"ch3.2\"></a>\n",
    "\n",
    "### 3.2. Analysis on each feature"
   ]
  },
  {
   "cell_type": "code",
   "execution_count": 14,
   "metadata": {},
   "outputs": [
    {
     "data": {
      "text/html": [
       "<div>\n",
       "<style scoped>\n",
       "    .dataframe tbody tr th:only-of-type {\n",
       "        vertical-align: middle;\n",
       "    }\n",
       "\n",
       "    .dataframe tbody tr th {\n",
       "        vertical-align: top;\n",
       "    }\n",
       "\n",
       "    .dataframe thead th {\n",
       "        text-align: right;\n",
       "    }\n",
       "</style>\n",
       "<table border=\"1\" class=\"dataframe\">\n",
       "  <thead>\n",
       "    <tr style=\"text-align: right;\">\n",
       "      <th></th>\n",
       "      <th>PassengerId</th>\n",
       "      <th>Survived</th>\n",
       "      <th>Pclass</th>\n",
       "      <th>Name</th>\n",
       "      <th>Sex</th>\n",
       "      <th>Age</th>\n",
       "      <th>SibSp</th>\n",
       "      <th>Parch</th>\n",
       "      <th>Ticket</th>\n",
       "      <th>Fare</th>\n",
       "      <th>Cabin</th>\n",
       "      <th>Embarked</th>\n",
       "    </tr>\n",
       "  </thead>\n",
       "  <tbody>\n",
       "    <tr>\n",
       "      <th>0</th>\n",
       "      <td>1</td>\n",
       "      <td>0</td>\n",
       "      <td>3</td>\n",
       "      <td>Braund, Mr. Owen Harris</td>\n",
       "      <td>0</td>\n",
       "      <td>22</td>\n",
       "      <td>1</td>\n",
       "      <td>0</td>\n",
       "      <td>A/5 21171</td>\n",
       "      <td>7.2500</td>\n",
       "      <td>NaN</td>\n",
       "      <td>0</td>\n",
       "    </tr>\n",
       "    <tr>\n",
       "      <th>1</th>\n",
       "      <td>2</td>\n",
       "      <td>1</td>\n",
       "      <td>1</td>\n",
       "      <td>Cumings, Mrs. John Bradley (Florence Briggs Th...</td>\n",
       "      <td>1</td>\n",
       "      <td>38</td>\n",
       "      <td>1</td>\n",
       "      <td>0</td>\n",
       "      <td>PC 17599</td>\n",
       "      <td>71.2833</td>\n",
       "      <td>C85</td>\n",
       "      <td>1</td>\n",
       "    </tr>\n",
       "    <tr>\n",
       "      <th>2</th>\n",
       "      <td>3</td>\n",
       "      <td>1</td>\n",
       "      <td>3</td>\n",
       "      <td>Heikkinen, Miss. Laina</td>\n",
       "      <td>1</td>\n",
       "      <td>26</td>\n",
       "      <td>0</td>\n",
       "      <td>0</td>\n",
       "      <td>STON/O2. 3101282</td>\n",
       "      <td>7.9250</td>\n",
       "      <td>NaN</td>\n",
       "      <td>0</td>\n",
       "    </tr>\n",
       "    <tr>\n",
       "      <th>3</th>\n",
       "      <td>4</td>\n",
       "      <td>1</td>\n",
       "      <td>1</td>\n",
       "      <td>Futrelle, Mrs. Jacques Heath (Lily May Peel)</td>\n",
       "      <td>1</td>\n",
       "      <td>35</td>\n",
       "      <td>1</td>\n",
       "      <td>0</td>\n",
       "      <td>113803</td>\n",
       "      <td>53.1000</td>\n",
       "      <td>C123</td>\n",
       "      <td>0</td>\n",
       "    </tr>\n",
       "    <tr>\n",
       "      <th>4</th>\n",
       "      <td>5</td>\n",
       "      <td>0</td>\n",
       "      <td>3</td>\n",
       "      <td>Allen, Mr. William Henry</td>\n",
       "      <td>0</td>\n",
       "      <td>35</td>\n",
       "      <td>0</td>\n",
       "      <td>0</td>\n",
       "      <td>373450</td>\n",
       "      <td>8.0500</td>\n",
       "      <td>NaN</td>\n",
       "      <td>0</td>\n",
       "    </tr>\n",
       "  </tbody>\n",
       "</table>\n",
       "</div>"
      ],
      "text/plain": [
       "   PassengerId  Survived  Pclass  \\\n",
       "0            1         0       3   \n",
       "1            2         1       1   \n",
       "2            3         1       3   \n",
       "3            4         1       1   \n",
       "4            5         0       3   \n",
       "\n",
       "                                                Name  Sex  Age  SibSp  Parch  \\\n",
       "0                            Braund, Mr. Owen Harris    0   22      1      0   \n",
       "1  Cumings, Mrs. John Bradley (Florence Briggs Th...    1   38      1      0   \n",
       "2                             Heikkinen, Miss. Laina    1   26      0      0   \n",
       "3       Futrelle, Mrs. Jacques Heath (Lily May Peel)    1   35      1      0   \n",
       "4                           Allen, Mr. William Henry    0   35      0      0   \n",
       "\n",
       "             Ticket     Fare Cabin  Embarked  \n",
       "0         A/5 21171   7.2500   NaN         0  \n",
       "1          PC 17599  71.2833   C85         1  \n",
       "2  STON/O2. 3101282   7.9250   NaN         0  \n",
       "3            113803  53.1000  C123         0  \n",
       "4            373450   8.0500   NaN         0  "
      ]
     },
     "execution_count": 14,
     "metadata": {},
     "output_type": "execute_result"
    }
   ],
   "source": [
    "# copy data set to process\n",
    "data_train = data_filled.copy()\n",
    "data_train.head()"
   ]
  },
  {
   "cell_type": "markdown",
   "metadata": {},
   "source": [
    "`PassengerID` and  `Name`  should make no contribution here and can be ignored. `Cabin` can also be neglected because of too many missing data."
   ]
  },
  {
   "cell_type": "code",
   "execution_count": 15,
   "metadata": {},
   "outputs": [
    {
     "data": {
      "text/plain": [
       "PassengerId      int64\n",
       "Survived         int64\n",
       "Pclass           int64\n",
       "Name            object\n",
       "Sex              int64\n",
       "Age              int64\n",
       "SibSp            int64\n",
       "Parch            int64\n",
       "Ticket          object\n",
       "Fare           float64\n",
       "Cabin           object\n",
       "Embarked         int64\n",
       "dtype: object"
      ]
     },
     "execution_count": 15,
     "metadata": {},
     "output_type": "execute_result"
    }
   ],
   "source": [
    "data_train.dtypes"
   ]
  },
  {
   "cell_type": "code",
   "execution_count": 16,
   "metadata": {},
   "outputs": [
    {
     "data": {
      "image/png": "[encoded data removed]",
      "text/plain": [
       "<Figure size 576x288 with 1 Axes>"
      ]
     },
     "metadata": {
      "needs_background": "light"
     },
     "output_type": "display_data"
    },
    {
     "data": {
      "image/png": "[encoded data removed]",
      "text/plain": [
       "<Figure size 576x288 with 1 Axes>"
      ]
     },
     "metadata": {
      "needs_background": "light"
     },
     "output_type": "display_data"
    },
    {
     "data": {
      "image/png": "[encoded data removed]",
      "text/plain": [
       "<Figure size 576x288 with 1 Axes>"
      ]
     },
     "metadata": {
      "needs_background": "light"
     },
     "output_type": "display_data"
    },
    {
     "data": {
      "image/png": "[encoded data removed]",
      "text/plain": [
       "<Figure size 576x288 with 1 Axes>"
      ]
     },
     "metadata": {
      "needs_background": "light"
     },
     "output_type": "display_data"
    },
    {
     "data": {
      "image/png": "[encoded data removed]",
      "text/plain": [
       "<Figure size 576x288 with 1 Axes>"
      ]
     },
     "metadata": {
      "needs_background": "light"
     },
     "output_type": "display_data"
    }
   ],
   "source": [
    "# Categorical variables\n",
    "attribute_list = ['Sex', 'Pclass', 'Parch', 'SibSp', 'Embarked']\n",
    "for attr in attribute_list:\n",
    "    fig = plt.figure(figsize=(8,4))\n",
    "    sns.countplot(x=attr, hue='Survived', data=data_train)\n",
    "    plt.legend(loc=1, title='Survived')"
   ]
  },
  {
   "cell_type": "code",
   "execution_count": 17,
   "metadata": {},
   "outputs": [
    {
     "data": {
      "image/png": "[encoded data removed]",
      "text/plain": [
       "<Figure size 576x288 with 1 Axes>"
      ]
     },
     "metadata": {
      "needs_background": "light"
     },
     "output_type": "display_data"
    },
    {
     "data": {
      "image/png": "[encoded data removed]",
      "text/plain": [
       "<Figure size 576x288 with 1 Axes>"
      ]
     },
     "metadata": {
      "needs_background": "light"
     },
     "output_type": "display_data"
    }
   ],
   "source": [
    "# Continuous variables\n",
    "attribute_list = ['Age', 'Fare']\n",
    "for attr in attribute_list:\n",
    "    fig = plt.figure(figsize=(8,4))\n",
    "    data_survived = data_train[data_train['Survived']==1]\n",
    "    data_dead = data_train[data_train['Survived']==0]\n",
    "    sns.kdeplot(data_survived[attr], shade=True, label='Survived')\n",
    "    sns.kdeplot(data_dead[attr], shade=True, label='Not survived')\n",
    "    plt.legend(loc=1)\n",
    "    plt.xlabel(attr)\n",
    "    plt.ylabel('Ratio')"
   ]
  },
  {
   "cell_type": "markdown",
   "metadata": {},
   "source": [
    "Some observation that can be made here:\n",
    "* Women has much higher survival rate\n",
    "* Passengers in more luxurious class has better chance of survival\n",
    "* Passengers who pay better money stay in better class and have better chance of survival\n",
    "* Traveling with relatives (parents, child or siblings) significantly boost your survival rate.\n",
    " \n",
    "Some feature engineering ideas:\n",
    "* There are 3 classes, thus `Fare` should be grouped into 3 groups\n",
    "* Attributes `Parch` and `SibSp` can be converted into travelling with relatives or not\n",
    "* `Age` should be grouped into 3 groups: children, adults and elders\n",
    "* `Embarkation` should be one-hot encoded"
   ]
  },
  {
   "cell_type": "code",
   "execution_count": 18,
   "metadata": {},
   "outputs": [
    {
     "data": {
      "text/plain": [
       "[(-0.001, 8.662], (26.0, 512.329], (8.662, 26.0]]\n",
       "Categories (3, interval[float64]): [(-0.001, 8.662] < (8.662, 26.0] < (26.0, 512.329]]"
      ]
     },
     "execution_count": 18,
     "metadata": {},
     "output_type": "execute_result"
    }
   ],
   "source": [
    "# Group fare\n",
    "data_train['FareGrp'] = pd.qcut(data_filled['Fare'], 3)\n",
    "data_train['FareGrp'].unique()"
   ]
  },
  {
   "cell_type": "code",
   "execution_count": 19,
   "metadata": {},
   "outputs": [],
   "source": [
    "filter_fare = lambda x: 0 if x < 8.662 else 1 if (x <26.0 and x >= 8.662) else 2\n",
    "data_train['Fare'] = data_filled['Fare'].apply(filter_fare)"
   ]
  },
  {
   "cell_type": "code",
   "execution_count": 20,
   "metadata": {},
   "outputs": [],
   "source": [
    "# Has relatives?\n",
    "data_train['Relatives'] = data_filled['SibSp']+data_filled['Parch']\n",
    "filter_relatives = lambda x:0 if x<1 else 1\n",
    "data_train['Relatives'] = data_train['Relatives'].apply(filter_relatives)"
   ]
  },
  {
   "cell_type": "code",
   "execution_count": 21,
   "metadata": {},
   "outputs": [],
   "source": [
    "# Group age\n",
    "filter_age = lambda x:0 if x<15 else 1 if (x<55 and x >=15) else 2\n",
    "data_train['AgeGrp'] = data_filled['Age'].apply(filter_age)"
   ]
  },
  {
   "cell_type": "code",
   "execution_count": 22,
   "metadata": {},
   "outputs": [],
   "source": [
    "# Encode the Embarked feature\n",
    "onehot = OneHotEncoder()\n",
    "one_hot_matrix = onehot.fit_transform(data_train['Embarked'].loc[:].values.reshape(-1,1)).toarray()\n",
    "data_train['Embarked S'] = one_hot_matrix[:,0]\n",
    "data_train['Embarked C'] = one_hot_matrix[:,1]"
   ]
  },
  {
   "cell_type": "code",
   "execution_count": 23,
   "metadata": {},
   "outputs": [
    {
     "data": {
      "image/png": "[encoded data removed]",
      "text/plain": [
       "<Figure size 576x288 with 1 Axes>"
      ]
     },
     "metadata": {
      "needs_background": "light"
     },
     "output_type": "display_data"
    },
    {
     "data": {
      "image/png": "[encoded data removed]",
      "text/plain": [
       "<Figure size 576x288 with 1 Axes>"
      ]
     },
     "metadata": {
      "needs_background": "light"
     },
     "output_type": "display_data"
    },
    {
     "data": {
      "image/png": "[encoded data removed]",
      "text/plain": [
       "<Figure size 576x288 with 1 Axes>"
      ]
     },
     "metadata": {
      "needs_background": "light"
     },
     "output_type": "display_data"
    }
   ],
   "source": [
    "attribute_list = ['FareGrp', 'Relatives', 'AgeGrp']\n",
    "for attr in attribute_list:\n",
    "    fig = plt.figure(figsize=(8,4))\n",
    "    sns.countplot(x=attr, hue='Survived', data=data_train)\n",
    "    plt.legend(loc=1, title='Survived')"
   ]
  },
  {
   "cell_type": "markdown",
   "metadata": {},
   "source": [
    "With this, we have collected all neccessary feature for our models. Let's look at them again"
   ]
  },
  {
   "cell_type": "code",
   "execution_count": 24,
   "metadata": {},
   "outputs": [
    {
     "data": {
      "text/html": [
       "<div>\n",
       "<style scoped>\n",
       "    .dataframe tbody tr th:only-of-type {\n",
       "        vertical-align: middle;\n",
       "    }\n",
       "\n",
       "    .dataframe tbody tr th {\n",
       "        vertical-align: top;\n",
       "    }\n",
       "\n",
       "    .dataframe thead th {\n",
       "        text-align: right;\n",
       "    }\n",
       "</style>\n",
       "<table border=\"1\" class=\"dataframe\">\n",
       "  <thead>\n",
       "    <tr style=\"text-align: right;\">\n",
       "      <th></th>\n",
       "      <th>Pclass</th>\n",
       "      <th>Sex</th>\n",
       "      <th>Fare</th>\n",
       "      <th>Embarked S</th>\n",
       "      <th>Embarked C</th>\n",
       "      <th>AgeGrp</th>\n",
       "      <th>Relatives</th>\n",
       "      <th>Survived</th>\n",
       "    </tr>\n",
       "  </thead>\n",
       "  <tbody>\n",
       "    <tr>\n",
       "      <th>0</th>\n",
       "      <td>3</td>\n",
       "      <td>0</td>\n",
       "      <td>0</td>\n",
       "      <td>1.0</td>\n",
       "      <td>0.0</td>\n",
       "      <td>1</td>\n",
       "      <td>1</td>\n",
       "      <td>0</td>\n",
       "    </tr>\n",
       "    <tr>\n",
       "      <th>1</th>\n",
       "      <td>1</td>\n",
       "      <td>1</td>\n",
       "      <td>2</td>\n",
       "      <td>0.0</td>\n",
       "      <td>1.0</td>\n",
       "      <td>1</td>\n",
       "      <td>1</td>\n",
       "      <td>1</td>\n",
       "    </tr>\n",
       "    <tr>\n",
       "      <th>2</th>\n",
       "      <td>3</td>\n",
       "      <td>1</td>\n",
       "      <td>0</td>\n",
       "      <td>1.0</td>\n",
       "      <td>0.0</td>\n",
       "      <td>1</td>\n",
       "      <td>0</td>\n",
       "      <td>1</td>\n",
       "    </tr>\n",
       "    <tr>\n",
       "      <th>3</th>\n",
       "      <td>1</td>\n",
       "      <td>1</td>\n",
       "      <td>2</td>\n",
       "      <td>1.0</td>\n",
       "      <td>0.0</td>\n",
       "      <td>1</td>\n",
       "      <td>1</td>\n",
       "      <td>1</td>\n",
       "    </tr>\n",
       "    <tr>\n",
       "      <th>4</th>\n",
       "      <td>3</td>\n",
       "      <td>0</td>\n",
       "      <td>0</td>\n",
       "      <td>1.0</td>\n",
       "      <td>0.0</td>\n",
       "      <td>1</td>\n",
       "      <td>0</td>\n",
       "      <td>0</td>\n",
       "    </tr>\n",
       "  </tbody>\n",
       "</table>\n",
       "</div>"
      ],
      "text/plain": [
       "   Pclass  Sex  Fare  Embarked S  Embarked C  AgeGrp  Relatives  Survived\n",
       "0       3    0     0         1.0         0.0       1          1         0\n",
       "1       1    1     2         0.0         1.0       1          1         1\n",
       "2       3    1     0         1.0         0.0       1          0         1\n",
       "3       1    1     2         1.0         0.0       1          1         1\n",
       "4       3    0     0         1.0         0.0       1          0         0"
      ]
     },
     "execution_count": 24,
     "metadata": {},
     "output_type": "execute_result"
    }
   ],
   "source": [
    "feature_columns = ['Pclass', 'Sex', 'Fare', 'Embarked S', 'Embarked C', 'AgeGrp', 'Relatives']\n",
    "data_train = data_train[feature_columns+['Survived']]\n",
    "data_train.head()"
   ]
  },
  {
   "cell_type": "markdown",
   "metadata": {},
   "source": [
    "<a id=\"ch4\"></a>\n",
    "\n",
    "## 4. Building Classification Model\n",
    "\n",
    "<a id=\"ch4.1\"></a>\n",
    "\n",
    "### 4.1. Writing the classification function\n",
    "\n",
    "First let's convert the training data into `numpy_array` and split them to test set and validation set"
   ]
  },
  {
   "cell_type": "code",
   "execution_count": 25,
   "metadata": {},
   "outputs": [],
   "source": [
    "# Extract training data to array\n",
    "X_set = data_train.loc[:,feature_columns].values\n",
    "Y_set = data_train.loc[:,'Survived'].values\n",
    "\n",
    "# Splitting training and validation set\n",
    "seed = 2\n",
    "X_train, X_val, Y_train, Y_val = train_test_split(X_set, Y_set, test_size=0.2, random_state=seed)\n",
    "training_data = [X_train, X_val, Y_train, Y_val]"
   ]
  },
  {
   "cell_type": "markdown",
   "metadata": {},
   "source": [
    "The goal is to predict whether a passenger can survive the incident or not, so this is a supervised learning, classification problem. Thus we have several choices over which model to use:\n",
    "- Support Vector Machine\n",
    "- Decision Tree Classification\n",
    "- Logistic Regression\n",
    "- K-Nearest Neighbors\n",
    "\n",
    "Let's build a common `do_classify` which do use `GridSearchCV` to search for the best hyperparameters for each classifier and output both the training and validation score to us."
   ]
  },
  {
   "cell_type": "code",
   "execution_count": 26,
   "metadata": {},
   "outputs": [],
   "source": [
    "def do_classifiy(training_data, classifier, parameters, cv=5, print_details=False):\n",
    "    '''\n",
    "    Arguments:\n",
    "    training_data -- training data set, consist of both train set and validation set\n",
    "    classifier -- the desire classifier\n",
    "    parameters -- dictionary of parameters to be tested\n",
    "    cv -- number fold in cross validation\n",
    "    \n",
    "    Returns\n",
    "    clf_best -- classifier corresponds to the best hyperparameters\n",
    "    grid_score -- accuracy on training search when doing grid search with k-fold cross validation\n",
    "    acc_score -- accuracy on the validation set\n",
    "    \n",
    "    '''\n",
    "    X_train, X_val, Y_train, Y_val = training_data\n",
    "    gs = GridSearchCV(classifier, param_grid=parameters, cv=cv, refit=True)\n",
    "    start_time = time.time()\n",
    "    gs.fit(X_train,Y_train)\n",
    "    print('Best score: %.3f, using: %s' %(gs.best_score_, gs.best_params_))\n",
    "    print('Total run time: %0.2f seconds' %(time.time()-start_time))\n",
    "    clf_best = gs.best_estimator_\n",
    "    \n",
    "    if print_details==True:\n",
    "        means = gs.cv_results_['mean_test_score']\n",
    "        stds = gs.cv_results_['std_test_score']\n",
    "        params = gs.cv_results_['params']\n",
    "        for mean, std, param in zip(means, stds, params):\n",
    "            print('Test score: %.3f, std: %.3f, using %s' %(mean, std, param))\n",
    "\n",
    "    grid_score = gs.best_score_\n",
    "    acc_score = clf_best.score(X_val, Y_val)\n",
    "    print('Best train score: %0.3f' %grid_score)\n",
    "    print('Validation score: %0.3f' %acc_score)\n",
    "    return clf_best, grid_score, acc_score"
   ]
  },
  {
   "cell_type": "markdown",
   "metadata": {},
   "source": [
    "<a id=\"ch4.2\"></a>\n",
    "\n",
    "### 4.2. Prediction with differrent classification model\n",
    "\n",
    "**SVM**"
   ]
  },
  {
   "cell_type": "code",
   "execution_count": 27,
   "metadata": {},
   "outputs": [
    {
     "name": "stdout",
     "output_type": "stream",
     "text": [
      "Best score: 0.808, using: {'kernel': 'rbf'}\n",
      "Total run time: 0.22 seconds\n",
      "Best train score: 0.808\n",
      "Validation score: 0.788\n"
     ]
    }
   ],
   "source": [
    "clf_svm = SVC(kernel='rbf')\n",
    "params_svm = {'kernel':['rbf', 'sigmoid', 'linear']}\n",
    "clf_svm, score_svm, acc_svm = do_classifiy(training_data, clf_svm, params_svm)"
   ]
  },
  {
   "cell_type": "markdown",
   "metadata": {},
   "source": [
    "**Random Forest**"
   ]
  },
  {
   "cell_type": "code",
   "execution_count": 28,
   "metadata": {},
   "outputs": [
    {
     "name": "stdout",
     "output_type": "stream",
     "text": [
      "Best score: 0.816, using: {'n_estimators': 20}\n",
      "Total run time: 0.68 seconds\n",
      "Best train score: 0.816\n",
      "Validation score: 0.816\n"
     ]
    }
   ],
   "source": [
    "clf_rf = RandomForestClassifier(n_estimators=10)\n",
    "params_rf = {'n_estimators': [5, 20, 100]}\n",
    "clf_rf, score_rf, acc_rf = do_classifiy(training_data, clf_rf, params_rf)"
   ]
  },
  {
   "cell_type": "markdown",
   "metadata": {},
   "source": [
    "**K-Nearest Neighbours**"
   ]
  },
  {
   "cell_type": "code",
   "execution_count": 29,
   "metadata": {},
   "outputs": [
    {
     "name": "stdout",
     "output_type": "stream",
     "text": [
      "Best score: 0.801, using: {'n_neighbors': 10}\n",
      "Total run time: 0.13 seconds\n",
      "Best train score: 0.801\n",
      "Validation score: 0.799\n"
     ]
    }
   ],
   "source": [
    "clf_knn = KNeighborsClassifier(n_neighbors=5)\n",
    "params_knn = {'n_neighbors':[3,10,20]}\n",
    "clf_knn, score_knn, acc_knn = do_classifiy(training_data, clf_knn, params_knn)"
   ]
  },
  {
   "cell_type": "markdown",
   "metadata": {},
   "source": [
    "**Logistic Regression**"
   ]
  },
  {
   "cell_type": "code",
   "execution_count": 30,
   "metadata": {},
   "outputs": [
    {
     "name": "stdout",
     "output_type": "stream",
     "text": [
      "Best score: 0.787, using: {'C': 1}\n",
      "Total run time: 0.04 seconds\n",
      "Best train score: 0.787\n",
      "Validation score: 0.782\n"
     ]
    }
   ],
   "source": [
    "clf_log = LogisticRegression(C=1.0, tol=1e-4)\n",
    "params_log = {'C':[0.01, 0.1, 1]}\n",
    "clf_log, score_log, acc_log = do_classifiy(training_data, clf_log, params_log)"
   ]
  },
  {
   "cell_type": "markdown",
   "metadata": {},
   "source": [
    "**XGBoost**"
   ]
  },
  {
   "cell_type": "code",
   "execution_count": 31,
   "metadata": {},
   "outputs": [
    {
     "name": "stdout",
     "output_type": "stream",
     "text": [
      "Best score: 0.819, using: {'n_estimators': 100, 'colsample_bytree': 0.9, 'max_depth': 4}\n",
      "Total run time: 5.91 seconds\n",
      "Best train score: 0.819\n",
      "Validation score: 0.810\n"
     ]
    }
   ],
   "source": [
    "clf_xgb = xgb.XGBClassifier()\n",
    "params_xgb = {'n_estimators': [100,300,500],\n",
    "             'colsample_bytree':[0.9,1.],\n",
    "             'max_depth':[3,4,5]}\n",
    "clf_xgb, score_xgb, acc_xgb = do_classifiy(training_data, clf_xgb, params_xgb)"
   ]
  },
  {
   "cell_type": "markdown",
   "metadata": {},
   "source": [
    "**LightGBM**"
   ]
  },
  {
   "cell_type": "code",
   "execution_count": 32,
   "metadata": {},
   "outputs": [
    {
     "name": "stdout",
     "output_type": "stream",
     "text": [
      "Best score: 0.815, using: {'num_leaves': 31, 'colsample_bytree': 1.0, 'min_child_samples': 20}\n",
      "Total run time: 2.40 seconds\n",
      "Best train score: 0.815\n",
      "Validation score: 0.810\n"
     ]
    }
   ],
   "source": [
    "clf_lgb = lgb.LGBMClassifier()\n",
    "params_lgb = {'colsample_bytree':[0.9,1.],\n",
    "             'min_child_samples':[10,20,30],\n",
    "             'num_leaves':[31,41,51]}\n",
    "clf_lgb, score_lgb, acc_lgb = do_classifiy(training_data, clf_lgb, params_lgb)"
   ]
  },
  {
   "cell_type": "markdown",
   "metadata": {},
   "source": [
    "**Summary of all models**"
   ]
  },
  {
   "cell_type": "code",
   "execution_count": 33,
   "metadata": {},
   "outputs": [
    {
     "data": {
      "text/html": [
       "<div>\n",
       "<style scoped>\n",
       "    .dataframe tbody tr th:only-of-type {\n",
       "        vertical-align: middle;\n",
       "    }\n",
       "\n",
       "    .dataframe tbody tr th {\n",
       "        vertical-align: top;\n",
       "    }\n",
       "\n",
       "    .dataframe thead th {\n",
       "        text-align: right;\n",
       "    }\n",
       "</style>\n",
       "<table border=\"1\" class=\"dataframe\">\n",
       "  <thead>\n",
       "    <tr style=\"text-align: right;\">\n",
       "      <th></th>\n",
       "      <th>Model</th>\n",
       "      <th>Training score</th>\n",
       "      <th>Validation score</th>\n",
       "    </tr>\n",
       "  </thead>\n",
       "  <tbody>\n",
       "    <tr>\n",
       "      <th>1</th>\n",
       "      <td>Random Forest</td>\n",
       "      <td>0.816011</td>\n",
       "      <td>0.815642</td>\n",
       "    </tr>\n",
       "    <tr>\n",
       "      <th>4</th>\n",
       "      <td>XGBoost</td>\n",
       "      <td>0.818820</td>\n",
       "      <td>0.810056</td>\n",
       "    </tr>\n",
       "    <tr>\n",
       "      <th>5</th>\n",
       "      <td>LightGBM</td>\n",
       "      <td>0.814607</td>\n",
       "      <td>0.810056</td>\n",
       "    </tr>\n",
       "    <tr>\n",
       "      <th>2</th>\n",
       "      <td>K-Nearest Neighbours</td>\n",
       "      <td>0.800562</td>\n",
       "      <td>0.798883</td>\n",
       "    </tr>\n",
       "    <tr>\n",
       "      <th>0</th>\n",
       "      <td>Support Vector Machine</td>\n",
       "      <td>0.807584</td>\n",
       "      <td>0.787709</td>\n",
       "    </tr>\n",
       "    <tr>\n",
       "      <th>3</th>\n",
       "      <td>Logistic Regression</td>\n",
       "      <td>0.786517</td>\n",
       "      <td>0.782123</td>\n",
       "    </tr>\n",
       "  </tbody>\n",
       "</table>\n",
       "</div>"
      ],
      "text/plain": [
       "                    Model  Training score  Validation score\n",
       "1           Random Forest        0.816011          0.815642\n",
       "4                 XGBoost        0.818820          0.810056\n",
       "5                LightGBM        0.814607          0.810056\n",
       "2    K-Nearest Neighbours        0.800562          0.798883\n",
       "0  Support Vector Machine        0.807584          0.787709\n",
       "3     Logistic Regression        0.786517          0.782123"
      ]
     },
     "execution_count": 33,
     "metadata": {},
     "output_type": "execute_result"
    }
   ],
   "source": [
    "models = pd.DataFrame({'Model': ['Support Vector Machine', 'Random Forest',\n",
    "                                 'K-Nearest Neighbours', 'Logistic Regression', 'XGBoost', 'LightGBM'],\n",
    "    'Training score': [score_svm, score_rf, score_knn, score_log, score_xgb, score_lgb],\n",
    "    'Validation score': [acc_svm, acc_rf, acc_knn, acc_log, acc_xgb, acc_lgb]})\n",
    "columns_title = ['Model', 'Training score', 'Validation score']\n",
    "models = models.reindex(columns=columns_title)\n",
    "models.sort_values(by='Validation score', ascending=False)"
   ]
  },
  {
   "cell_type": "markdown",
   "metadata": {},
   "source": [
    "**Feature importances**"
   ]
  },
  {
   "cell_type": "code",
   "execution_count": 34,
   "metadata": {},
   "outputs": [
    {
     "data": {
      "image/png": "[encoded data removed]",
      "text/plain": [
       "<Figure size 576x360 with 1 Axes>"
      ]
     },
     "metadata": {
      "needs_background": "light"
     },
     "output_type": "display_data"
    }
   ],
   "source": [
    "features_imp = pd.DataFrame()\n",
    "features_imp['features'] = list(feature_columns)[:]\n",
    "features_imp['importance'] = clf_lgb.feature_importances_\n",
    "features_imp = features_imp.sort_values(by='importance', ascending=False).reset_index()\n",
    "\n",
    "y_plot = -np.arange(len(feature_columns))\n",
    "plt.figure(figsize=(8,5))\n",
    "plt.barh(y_plot, features_imp.loc[:,'importance'].values)\n",
    "plt.yticks(y_plot,(features_imp.loc[:,'features']))\n",
    "plt.xlabel('Feature importance')\n",
    "plt.title('Features importance')\n",
    "plt.tight_layout()"
   ]
  },
  {
   "cell_type": "markdown",
   "metadata": {},
   "source": [
    "### 4.3. Ensemble model\n",
    "\n",
    "Here we build an ensembles of previous model using stacking method"
   ]
  },
  {
   "cell_type": "code",
   "execution_count": 35,
   "metadata": {},
   "outputs": [
    {
     "name": "stdout",
     "output_type": "stream",
     "text": [
      "Fitting 6 classifiers...\n",
      "Fitting classifier1: randomforestclassifier (1/6)\n",
      "Training and fitting fold 1 of 5...\n",
      "Training and fitting fold 2 of 5...\n",
      "Training and fitting fold 3 of 5...\n",
      "Training and fitting fold 4 of 5...\n",
      "Training and fitting fold 5 of 5...\n",
      "Fitting classifier2: xgbclassifier (2/6)\n",
      "Training and fitting fold 1 of 5...\n",
      "Training and fitting fold 2 of 5...\n",
      "Training and fitting fold 3 of 5...\n",
      "Training and fitting fold 4 of 5...\n",
      "Training and fitting fold 5 of 5...\n",
      "Fitting classifier3: lgbmclassifier (3/6)\n",
      "Training and fitting fold 1 of 5...\n",
      "Training and fitting fold 2 of 5...\n",
      "Training and fitting fold 3 of 5...\n",
      "Training and fitting fold 4 of 5...\n",
      "Training and fitting fold 5 of 5...\n",
      "Fitting classifier4: kneighborsclassifier (4/6)\n",
      "Training and fitting fold 1 of 5...\n",
      "Training and fitting fold 2 of 5...\n",
      "Training and fitting fold 3 of 5...\n",
      "Training and fitting fold 4 of 5...\n",
      "Training and fitting fold 5 of 5...\n",
      "Fitting classifier5: svc (5/6)\n",
      "Training and fitting fold 1 of 5...\n",
      "Training and fitting fold 2 of 5...\n",
      "Training and fitting fold 3 of 5...\n",
      "Training and fitting fold 4 of 5...\n",
      "Training and fitting fold 5 of 5...\n",
      "Fitting classifier6: logisticregression (6/6)\n",
      "Training and fitting fold 1 of 5...\n",
      "Training and fitting fold 2 of 5...\n",
      "Training and fitting fold 3 of 5...\n",
      "Training and fitting fold 4 of 5...\n",
      "Training and fitting fold 5 of 5...\n",
      "Stacking accuracy: 0.8045\n"
     ]
    }
   ],
   "source": [
    "lr = LogisticRegression()\n",
    "stack_clf = StackingCVClassifier(classifiers=[clf_rf, clf_xgb, clf_lgb, clf_knn, clf_svm, clf_log],\n",
    "                              meta_classifier=lr, verbose=1,cv=5)\n",
    "stack_clf.fit(X_train, Y_train)\n",
    "Y_pred = stack_clf.predict(X_val)\n",
    "scores = accuracy_score(Y_val, Y_pred)\n",
    "print('Stacking accuracy: %.4f' %scores)"
   ]
  },
  {
   "cell_type": "code",
   "execution_count": 40,
   "metadata": {},
   "outputs": [
    {
     "name": "stdout",
     "output_type": "stream",
     "text": [
      "Vote accuracy: 0.8101\n"
     ]
    }
   ],
   "source": [
    "vote_clf = EnsembleVoteClassifier(clfs=[clf_rf, clf_xgb, clf_lgb, clf_knn, clf_svm, clf_log], \n",
    "                                  weights=[acc_rf, acc_xgb, acc_lgb, acc_knn, acc_svm, acc_log])\n",
    "vote_clf.fit(X_train, Y_train)\n",
    "Y_pred = vote_clf.predict(X_val)\n",
    "scores = accuracy_score(Y_val, Y_pred)\n",
    "print('Vote accuracy: %.4f' %scores)"
   ]
  },
  {
   "cell_type": "markdown",
   "metadata": {},
   "source": [
    "<a id=\"ch5\"></a>\n",
    "\n",
    "## 5. Predicting The Test Data\n",
    "\n",
    "The first step is to import the test set and preprocess it just like we did with the training set"
   ]
  },
  {
   "cell_type": "code",
   "execution_count": 41,
   "metadata": {},
   "outputs": [],
   "source": [
    "# Import\n",
    "testset = pd.read_csv('input/test.csv')\n",
    "\n",
    "# Emcode sex\n",
    "testset['Sex'] = testset['Sex'].map({'male':0, 'female':1}).astype(int)\n",
    "\n",
    "# Fill in missing and encode Embarked\n",
    "testset['Embarked'] = testset['Embarked'].fillna('S')\n",
    "testset['Embarked'] = testset['Embarked'].map({'S':0, 'C':1, 'Q':2}).astype(int)\n",
    "onehot = OneHotEncoder()\n",
    "one_hot_matrix = onehot.fit_transform(testset['Embarked'].loc[:].values.reshape(-1,1)).toarray()\n",
    "testset['Embarked S'] = one_hot_matrix[:,0]\n",
    "testset['Embarked C'] = one_hot_matrix[:,1]\n",
    "\n",
    "# Fill in missing age\n",
    "X_pred_age = testset[['Pclass', 'SibSp']].loc[:].values\n",
    "X_pred_age[:,1][X_pred_age[:,1]>5] = 5\n",
    "age_pred = regressor_fill_age.predict(X_pred_age)\n",
    "for i in range(len(testset['Age'])):\n",
    "    if pd.isnull(testset.loc[i,'Age']):\n",
    "        testset.loc[i,'Age'] = int(age_pred[i])\n",
    "\n",
    "# Age group\n",
    "testset['AgeGrp'] = testset['Age'].apply(filter_age)\n",
    "        \n",
    "# Encode the fare\n",
    "testset['Fare'] = testset['Fare'].apply(filter_fare)\n",
    "\n",
    "# Encode Relatives\n",
    "testset['Relatives'] = testset['SibSp']+testset['Parch']\n",
    "testset['Relatives'] = testset['Relatives'].apply(filter_relatives)\n",
    "\n",
    "# Extract data for prediction\n",
    "for_pred = testset[['Pclass', 'Sex', 'Fare', 'Embarked S', 'Embarked C', 'AgeGrp', 'Relatives']]\n",
    "X = for_pred.loc[:,:].values"
   ]
  },
  {
   "cell_type": "markdown",
   "metadata": {},
   "source": [
    "We then apply Random Forest Classification to the processed data and publish the result into a .csv file"
   ]
  },
  {
   "cell_type": "code",
   "execution_count": 42,
   "metadata": {},
   "outputs": [],
   "source": [
    "# Make predict\n",
    "Y_pred = vote_clf.predict(X)\n",
    "\n",
    "# Write output to a file\n",
    "ID = testset['PassengerId']\n",
    "filename = 'result.csv'\n",
    "myfile = open(filename,'w')\n",
    "titleRow = 'PassengerID,Survived\\n'\n",
    "myfile.write(titleRow)\n",
    "for i in range(len(Y_pred)):\n",
    "    row = str(ID[i]) + ',' + str(Y_pred[i]) + '\\n'\n",
    "    myfile.write(row)\n",
    "myfile.close()"
   ]
  }
 ],
 "metadata": {
  "kernelspec": {
   "display_name": "Python 3",
   "language": "python",
   "name": "python3"
  },
  "language_info": {
   "codemirror_mode": {
    "name": "ipython",
    "version": 3
   },
   "file_extension": ".py",
   "mimetype": "text/x-python",
   "name": "python",
   "nbconvert_exporter": "python",
   "pygments_lexer": "ipython3",
   "version": "3.5.6"
  },
  "widgets": {
   "state": {},
   "version": "1.1.2"
  }
 },
 "nbformat": 4,
 "nbformat_minor": 2
}
