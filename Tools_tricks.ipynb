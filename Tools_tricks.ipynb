{
 "cells": [
  {
   "cell_type": "markdown",
   "metadata": {},
   "source": [
    "# Tools and tricks with Titanic dataset"
   ]
  },
  {
   "cell_type": "code",
   "execution_count": 68,
   "metadata": {},
   "outputs": [],
   "source": [
    "import matplotlib.pyplot as plt\n",
    "import pandas as pd\n",
    "import numpy as np\n",
    "from sklearn.feature_selection import RFE\n",
    "from sklearn.preprocessing import LabelEncoder, OneHotEncoder\n",
    "from sklearn.linear_model import LinearRegression\n",
    "from sklearn.ensemble import ExtraTreesClassifier\n",
    "from sklearn.feature_selection import SelectFromModel\n",
    "from sklearn.model_selection import train_test_split, cross_val_score\n",
    "from sklearn.svm import SVC\n",
    "from sklearn.neighbors import KNeighborsClassifier\n",
    "from sklearn.ensemble import RandomForestClassifier\n",
    "from sklearn.tree import DecisionTreeClassifier\n",
    "from sklearn.linear_model import LogisticRegression\n",
    "from sklearn.model_selection import GridSearchCV\n",
    "from sklearn.metrics import accuracy_score\n",
    "from sklearn.linear_model import LogisticRegression\n",
    "from sklearn.ensemble import VotingClassifier\n",
    "\n",
    "import statsmodels.formula.api as smf\n",
    "import time\n",
    "import seaborn as sns\n",
    "import featuretools as ft\n",
    "\n",
    "\n",
    "from matplotlib import rcParams\n",
    "rcParams['figure.figsize'] = (8,5)\n",
    "rcParams['font.size'] = 14\n",
    "import gc\n",
    "\n",
    "import lightgbm as lgb\n",
    "from hyperopt import hp\n",
    "from hyperopt.pyll.stochastic import sample\n",
    "from mlxtend.classifier import StackingClassifier, EnsembleVoteClassifier"
   ]
  },
  {
   "cell_type": "code",
   "execution_count": 2,
   "metadata": {},
   "outputs": [],
   "source": [
    "import warnings\n",
    "warnings.filterwarnings(\"ignore\")"
   ]
  },
  {
   "cell_type": "markdown",
   "metadata": {},
   "source": [
    "## Importing and preprocessing data"
   ]
  },
  {
   "cell_type": "code",
   "execution_count": 3,
   "metadata": {},
   "outputs": [
    {
     "name": "stdout",
     "output_type": "stream",
     "text": [
      "PassengerId    False\n",
      "Survived       False\n",
      "Pclass         False\n",
      "Name           False\n",
      "Sex            False\n",
      "Age             True\n",
      "SibSp          False\n",
      "Parch          False\n",
      "Ticket         False\n",
      "Fare           False\n",
      "Cabin           True\n",
      "Embarked        True\n",
      "dtype: bool\n"
     ]
    }
   ],
   "source": [
    "# Import data\n",
    "dataset = pd.read_csv('input/train.csv')\n",
    "dataset.describe()\n",
    "dataset.corr()\n",
    "print(dataset.isnull().any())"
   ]
  },
  {
   "cell_type": "code",
   "execution_count": 4,
   "metadata": {},
   "outputs": [],
   "source": [
    "# Encode sex data:\n",
    "#dataset['Sex'] = dataset['Sex'].map({'male':0, 'female':1}).astype(int)\n",
    "\n",
    "# Fill in and encode Embarked\n",
    "dataset['Embarked'].value_counts()\n",
    "dataset['Embarked'] = dataset['Embarked'].fillna('S')\n",
    "#dataset['Embarked'] = dataset['Embarked'].map({'S':0, 'C':1, 'Q':2}).astype(int)\n",
    "\n",
    "# Extract nan in age\n",
    "data_age = dataset.dropna(subset=['Age'])\n",
    "data_no_age = dataset[dataset['Age'].isnull()]\n",
    "\n",
    "# Fill in missing ages with SibSp and Pclass\n",
    "\n",
    "X_fit_age = data_age[['Pclass', 'SibSp']].loc[:].values\n",
    "Y_fit_age = data_age['Age'].loc[:].values.reshape(-1,1)\n",
    "\n",
    "regressor_fill_age = LinearRegression()\n",
    "regressor_fill_age.fit(X_fit_age, Y_fit_age)\n",
    "\n",
    "X_pred_age = data_no_age[['Pclass', 'SibSp']].loc[:].values\n",
    "X_pred_age[:,1][X_pred_age[:,1]>5] = 5\n",
    "data_no_age['Age'] = regressor_fill_age.predict(X_pred_age)\n",
    "\n",
    "data_filled = pd.concat([data_age, data_no_age])\n",
    "data_filled['Age'] = data_filled['Age'].astype(int)\n",
    "data_filled.isnull().sum()\n",
    "train_df = data_filled[['Survived', 'Pclass', 'Sex', 'Age', 'SibSp', 'Parch', 'Fare', 'Embarked']]"
   ]
  },
  {
   "cell_type": "markdown",
   "metadata": {},
   "source": [
    "## Plotting"
   ]
  },
  {
   "cell_type": "code",
   "execution_count": 5,
   "metadata": {},
   "outputs": [
    {
     "data": {
      "text/plain": [
       "Text(0.5, 1.0, 'Survival by age')"
      ]
     },
     "execution_count": 5,
     "metadata": {},
     "output_type": "execute_result"
    },
    {
     "data": {
      "image/png": "[encoded data removed]",
      "text/plain": [
       "<Figure size 432x288 with 1 Axes>"
      ]
     },
     "metadata": {
      "needs_background": "light"
     },
     "output_type": "display_data"
    }
   ],
   "source": [
    "# Box plot\n",
    "data_plot = train_df[train_df['Survived']==1]\n",
    "\n",
    "colors = ['red', 'green', 'blue']\n",
    "fig = plt.figure()\n",
    "ax = sns.boxplot(x='Pclass', y='Age', data=train_df, hue='Sex', \n",
    "                 palette=sns.color_palette(colors), width=0.5)\n",
    "plt.xlabel('Pclass')\n",
    "l = plt.legend(loc=1)\n",
    "l.get_texts()[0].set_text('male')\n",
    "l.get_texts()[1].set_text('female')\n",
    "plt.title('Survival by age')"
   ]
  },
  {
   "cell_type": "code",
   "execution_count": 6,
   "metadata": {},
   "outputs": [
    {
     "data": {
      "text/plain": [
       "Text(0.5, 1.0, 'Survival by age')"
      ]
     },
     "execution_count": 6,
     "metadata": {},
     "output_type": "execute_result"
    },
    {
     "data": {
      "image/png": "[encoded data removed]",
      "text/plain": [
       "<Figure size 432x288 with 1 Axes>"
      ]
     },
     "metadata": {
      "needs_background": "light"
     },
     "output_type": "display_data"
    }
   ],
   "source": [
    "# Violin plot\n",
    "data_plot = train_df[train_df['Survived']==1]\n",
    "\n",
    "colors = ['red', 'green', 'blue']\n",
    "fig = plt.figure()\n",
    "ax = sns.violinplot(x='Pclass', y='Age', data=train_df, hue='Sex', \n",
    "                    palette=sns.color_palette(colors), split=True, \n",
    "                    scale='count', scale_hue=False)\n",
    "plt.xlabel('Pclass')\n",
    "l = plt.legend(loc=1)\n",
    "l.get_texts()[0].set_text('male')\n",
    "l.get_texts()[1].set_text('female')\n",
    "plt.title('Survival by age')"
   ]
  },
  {
   "cell_type": "code",
   "execution_count": 7,
   "metadata": {},
   "outputs": [
    {
     "data": {
      "text/plain": [
       "Text(0.5, 0.98, 'Survival by age')"
      ]
     },
     "execution_count": 7,
     "metadata": {},
     "output_type": "execute_result"
    },
    {
     "data": {
      "text/plain": [
       "<Figure size 432x288 with 0 Axes>"
      ]
     },
     "metadata": {},
     "output_type": "display_data"
    },
    {
     "data": {
      "image/png": "[encoded data removed]",
      "text/plain": [
       "<Figure size 720x360 with 2 Axes>"
      ]
     },
     "metadata": {
      "needs_background": "light"
     },
     "output_type": "display_data"
    }
   ],
   "source": [
    "# Countplot\n",
    "data_plot = train_df\n",
    "fig = plt.figure()\n",
    "ax = sns.catplot(x='Pclass', col='Survived', hue='Sex', data=train_df, kind='count', legend=False)\n",
    "l = plt.legend(loc=1)\n",
    "l.get_texts()[0].set_text('male')\n",
    "l.get_texts()[1].set_text('female')\n",
    "plt.suptitle('Survival by age')"
   ]
  },
  {
   "cell_type": "code",
   "execution_count": 8,
   "metadata": {},
   "outputs": [
    {
     "data": {
      "text/plain": [
       "<seaborn.axisgrid.PairGrid at 0x7ff16d519e80>"
      ]
     },
     "execution_count": 8,
     "metadata": {},
     "output_type": "execute_result"
    },
    {
     "data": {
      "image/png": "[encoded data removed]",
      "text/plain": [
       "<Figure size 771.875x720 with 20 Axes>"
      ]
     },
     "metadata": {
      "needs_background": "light"
     },
     "output_type": "display_data"
    }
   ],
   "source": [
    "# Pairplot\n",
    "data_plot = train_df\n",
    "grid = sns.pairplot(data=data_plot, hue='Survived', vars = ['Age', 'SibSp', 'Parch', 'Fare'])\n",
    "grid.map_lower(sns.kdeplot, cmap = plt.cm.OrRd_r)"
   ]
  },
  {
   "cell_type": "markdown",
   "metadata": {},
   "source": [
    "## Automated feature engineering"
   ]
  },
  {
   "cell_type": "code",
   "execution_count": 9,
   "metadata": {},
   "outputs": [],
   "source": [
    "test_df = data_filled[['PassengerId', 'Sex']]"
   ]
  },
  {
   "cell_type": "code",
   "execution_count": 10,
   "metadata": {},
   "outputs": [],
   "source": [
    "es = ft.EntitySet(id='Test')\n",
    "es.entity_from_dataframe(entity_id='passengers', dataframe=data_filled, index='PassengerId')\n",
    "es.entity_from_dataframe(entity_id='id', dataframe=test_df, index='PassengerId')\n",
    "r_passenger_id = ft.Relationship(child_variable=es['passengers']['PassengerId'], parent_variable=es['id']['PassengerId'])\n",
    "es = es.add_relationships([r_passenger_id])"
   ]
  },
  {
   "cell_type": "code",
   "execution_count": 11,
   "metadata": {},
   "outputs": [
    {
     "data": {
      "text/plain": [
       "Entityset: Test\n",
       "  Entities:\n",
       "    id [Rows: 891, Columns: 2]\n",
       "    passengers [Rows: 891, Columns: 12]\n",
       "  Relationships:\n",
       "    passengers.PassengerId -> id.PassengerId"
      ]
     },
     "execution_count": 11,
     "metadata": {},
     "output_type": "execute_result"
    }
   ],
   "source": [
    "es"
   ]
  },
  {
   "cell_type": "code",
   "execution_count": 12,
   "metadata": {},
   "outputs": [],
   "source": [
    "agg_primitives = ['min', 'max', 'mean', 'count', 'num_unique']\n",
    "trans_primitives = ['day', 'year', 'numwords']"
   ]
  },
  {
   "cell_type": "code",
   "execution_count": 13,
   "metadata": {},
   "outputs": [],
   "source": [
    "feature_matrix, feature_names = ft.dfs(entityset = es, target_entity = 'id',\n",
    "                                       trans_primitives = trans_primitives,\n",
    "                                       agg_primitives=agg_primitives, \n",
    "                                       max_depth = 2, features_only=False)"
   ]
  },
  {
   "cell_type": "code",
   "execution_count": 14,
   "metadata": {},
   "outputs": [
    {
     "data": {
      "text/html": [
       "<div>\n",
       "<style scoped>\n",
       "    .dataframe tbody tr th:only-of-type {\n",
       "        vertical-align: middle;\n",
       "    }\n",
       "\n",
       "    .dataframe tbody tr th {\n",
       "        vertical-align: top;\n",
       "    }\n",
       "\n",
       "    .dataframe thead th {\n",
       "        text-align: right;\n",
       "    }\n",
       "</style>\n",
       "<table border=\"1\" class=\"dataframe\">\n",
       "  <thead>\n",
       "    <tr style=\"text-align: right;\">\n",
       "      <th></th>\n",
       "      <th>Sex</th>\n",
       "      <th>MIN(passengers.Parch)</th>\n",
       "      <th>MEAN(passengers.Fare)</th>\n",
       "      <th>MEAN(passengers.Pclass)</th>\n",
       "      <th>MIN(passengers.Fare)</th>\n",
       "      <th>MIN(passengers.SibSp)</th>\n",
       "      <th>NUM_UNIQUE(passengers.Ticket)</th>\n",
       "      <th>NUM_UNIQUE(passengers.Name)</th>\n",
       "      <th>MAX(passengers.Survived)</th>\n",
       "      <th>MEAN(passengers.Parch)</th>\n",
       "      <th>...</th>\n",
       "      <th>MAX(passengers.SibSp)</th>\n",
       "      <th>MEAN(passengers.Age)</th>\n",
       "      <th>NUM_UNIQUE(passengers.Cabin)</th>\n",
       "      <th>NUM_UNIQUE(passengers.Embarked)</th>\n",
       "      <th>NUM_UNIQUE(passengers.Sex)</th>\n",
       "      <th>MAX(passengers.Pclass)</th>\n",
       "      <th>MAX(passengers.Parch)</th>\n",
       "      <th>MAX(passengers.Fare)</th>\n",
       "      <th>MEAN(passengers.SibSp)</th>\n",
       "      <th>MAX(passengers.Age)</th>\n",
       "    </tr>\n",
       "    <tr>\n",
       "      <th>PassengerId</th>\n",
       "      <th></th>\n",
       "      <th></th>\n",
       "      <th></th>\n",
       "      <th></th>\n",
       "      <th></th>\n",
       "      <th></th>\n",
       "      <th></th>\n",
       "      <th></th>\n",
       "      <th></th>\n",
       "      <th></th>\n",
       "      <th></th>\n",
       "      <th></th>\n",
       "      <th></th>\n",
       "      <th></th>\n",
       "      <th></th>\n",
       "      <th></th>\n",
       "      <th></th>\n",
       "      <th></th>\n",
       "      <th></th>\n",
       "      <th></th>\n",
       "      <th></th>\n",
       "    </tr>\n",
       "  </thead>\n",
       "  <tbody>\n",
       "    <tr>\n",
       "      <th>1</th>\n",
       "      <td>male</td>\n",
       "      <td>0</td>\n",
       "      <td>7.2500</td>\n",
       "      <td>3</td>\n",
       "      <td>7.2500</td>\n",
       "      <td>1</td>\n",
       "      <td>1</td>\n",
       "      <td>1</td>\n",
       "      <td>0</td>\n",
       "      <td>0</td>\n",
       "      <td>...</td>\n",
       "      <td>1</td>\n",
       "      <td>22</td>\n",
       "      <td>0</td>\n",
       "      <td>1</td>\n",
       "      <td>1</td>\n",
       "      <td>3</td>\n",
       "      <td>0</td>\n",
       "      <td>7.2500</td>\n",
       "      <td>1</td>\n",
       "      <td>22</td>\n",
       "    </tr>\n",
       "    <tr>\n",
       "      <th>2</th>\n",
       "      <td>female</td>\n",
       "      <td>0</td>\n",
       "      <td>71.2833</td>\n",
       "      <td>1</td>\n",
       "      <td>71.2833</td>\n",
       "      <td>1</td>\n",
       "      <td>1</td>\n",
       "      <td>1</td>\n",
       "      <td>1</td>\n",
       "      <td>0</td>\n",
       "      <td>...</td>\n",
       "      <td>1</td>\n",
       "      <td>38</td>\n",
       "      <td>1</td>\n",
       "      <td>1</td>\n",
       "      <td>1</td>\n",
       "      <td>1</td>\n",
       "      <td>0</td>\n",
       "      <td>71.2833</td>\n",
       "      <td>1</td>\n",
       "      <td>38</td>\n",
       "    </tr>\n",
       "    <tr>\n",
       "      <th>3</th>\n",
       "      <td>female</td>\n",
       "      <td>0</td>\n",
       "      <td>7.9250</td>\n",
       "      <td>3</td>\n",
       "      <td>7.9250</td>\n",
       "      <td>0</td>\n",
       "      <td>1</td>\n",
       "      <td>1</td>\n",
       "      <td>1</td>\n",
       "      <td>0</td>\n",
       "      <td>...</td>\n",
       "      <td>0</td>\n",
       "      <td>26</td>\n",
       "      <td>0</td>\n",
       "      <td>1</td>\n",
       "      <td>1</td>\n",
       "      <td>3</td>\n",
       "      <td>0</td>\n",
       "      <td>7.9250</td>\n",
       "      <td>0</td>\n",
       "      <td>26</td>\n",
       "    </tr>\n",
       "    <tr>\n",
       "      <th>4</th>\n",
       "      <td>female</td>\n",
       "      <td>0</td>\n",
       "      <td>53.1000</td>\n",
       "      <td>1</td>\n",
       "      <td>53.1000</td>\n",
       "      <td>1</td>\n",
       "      <td>1</td>\n",
       "      <td>1</td>\n",
       "      <td>1</td>\n",
       "      <td>0</td>\n",
       "      <td>...</td>\n",
       "      <td>1</td>\n",
       "      <td>35</td>\n",
       "      <td>1</td>\n",
       "      <td>1</td>\n",
       "      <td>1</td>\n",
       "      <td>1</td>\n",
       "      <td>0</td>\n",
       "      <td>53.1000</td>\n",
       "      <td>1</td>\n",
       "      <td>35</td>\n",
       "    </tr>\n",
       "    <tr>\n",
       "      <th>5</th>\n",
       "      <td>male</td>\n",
       "      <td>0</td>\n",
       "      <td>8.0500</td>\n",
       "      <td>3</td>\n",
       "      <td>8.0500</td>\n",
       "      <td>0</td>\n",
       "      <td>1</td>\n",
       "      <td>1</td>\n",
       "      <td>0</td>\n",
       "      <td>0</td>\n",
       "      <td>...</td>\n",
       "      <td>0</td>\n",
       "      <td>35</td>\n",
       "      <td>0</td>\n",
       "      <td>1</td>\n",
       "      <td>1</td>\n",
       "      <td>3</td>\n",
       "      <td>0</td>\n",
       "      <td>8.0500</td>\n",
       "      <td>0</td>\n",
       "      <td>35</td>\n",
       "    </tr>\n",
       "  </tbody>\n",
       "</table>\n",
       "<p>5 rows × 24 columns</p>\n",
       "</div>"
      ],
      "text/plain": [
       "                Sex  MIN(passengers.Parch)  MEAN(passengers.Fare)  \\\n",
       "PassengerId                                                         \n",
       "1              male                      0                 7.2500   \n",
       "2            female                      0                71.2833   \n",
       "3            female                      0                 7.9250   \n",
       "4            female                      0                53.1000   \n",
       "5              male                      0                 8.0500   \n",
       "\n",
       "             MEAN(passengers.Pclass)  MIN(passengers.Fare)  \\\n",
       "PassengerId                                                  \n",
       "1                                  3                7.2500   \n",
       "2                                  1               71.2833   \n",
       "3                                  3                7.9250   \n",
       "4                                  1               53.1000   \n",
       "5                                  3                8.0500   \n",
       "\n",
       "             MIN(passengers.SibSp)  NUM_UNIQUE(passengers.Ticket)  \\\n",
       "PassengerId                                                         \n",
       "1                                1                              1   \n",
       "2                                1                              1   \n",
       "3                                0                              1   \n",
       "4                                1                              1   \n",
       "5                                0                              1   \n",
       "\n",
       "             NUM_UNIQUE(passengers.Name)  MAX(passengers.Survived)  \\\n",
       "PassengerId                                                          \n",
       "1                                      1                         0   \n",
       "2                                      1                         1   \n",
       "3                                      1                         1   \n",
       "4                                      1                         1   \n",
       "5                                      1                         0   \n",
       "\n",
       "             MEAN(passengers.Parch)         ...           \\\n",
       "PassengerId                                 ...            \n",
       "1                                 0         ...            \n",
       "2                                 0         ...            \n",
       "3                                 0         ...            \n",
       "4                                 0         ...            \n",
       "5                                 0         ...            \n",
       "\n",
       "             MAX(passengers.SibSp)  MEAN(passengers.Age)  \\\n",
       "PassengerId                                                \n",
       "1                                1                    22   \n",
       "2                                1                    38   \n",
       "3                                0                    26   \n",
       "4                                1                    35   \n",
       "5                                0                    35   \n",
       "\n",
       "             NUM_UNIQUE(passengers.Cabin)  NUM_UNIQUE(passengers.Embarked)  \\\n",
       "PassengerId                                                                  \n",
       "1                                       0                                1   \n",
       "2                                       1                                1   \n",
       "3                                       0                                1   \n",
       "4                                       1                                1   \n",
       "5                                       0                                1   \n",
       "\n",
       "             NUM_UNIQUE(passengers.Sex)  MAX(passengers.Pclass)  \\\n",
       "PassengerId                                                       \n",
       "1                                     1                       3   \n",
       "2                                     1                       1   \n",
       "3                                     1                       3   \n",
       "4                                     1                       1   \n",
       "5                                     1                       3   \n",
       "\n",
       "             MAX(passengers.Parch)  MAX(passengers.Fare)  \\\n",
       "PassengerId                                                \n",
       "1                                0                7.2500   \n",
       "2                                0               71.2833   \n",
       "3                                0                7.9250   \n",
       "4                                0               53.1000   \n",
       "5                                0                8.0500   \n",
       "\n",
       "             MEAN(passengers.SibSp)  MAX(passengers.Age)  \n",
       "PassengerId                                               \n",
       "1                                 1                   22  \n",
       "2                                 1                   38  \n",
       "3                                 0                   26  \n",
       "4                                 1                   35  \n",
       "5                                 0                   35  \n",
       "\n",
       "[5 rows x 24 columns]"
      ]
     },
     "execution_count": 14,
     "metadata": {},
     "output_type": "execute_result"
    }
   ],
   "source": [
    "feature_matrix.head()"
   ]
  },
  {
   "cell_type": "code",
   "execution_count": 15,
   "metadata": {},
   "outputs": [],
   "source": [
    "def agg_numeric(df, parent_var, df_name):\n",
    "    \"\"\"\n",
    "    Groups and aggregates the numeric values in a child dataframe\n",
    "    by the parent variable.\n",
    "    \n",
    "    Parameters\n",
    "    --------\n",
    "        df (dataframe): \n",
    "            the child dataframe to calculate the statistics on\n",
    "        parent_var (string): \n",
    "            the parent variable used for grouping and aggregating\n",
    "        df_name (string): \n",
    "            the variable used to rename the columns\n",
    "        \n",
    "    Return\n",
    "    --------\n",
    "        agg (dataframe): \n",
    "            a dataframe with the statistics aggregated by the `parent_var` for \n",
    "            all numeric columns. Each observation of the parent variable will have \n",
    "            one row in the dataframe with the parent variable as the index. \n",
    "            The columns are also renamed using the `df_name`. Columns with all duplicate\n",
    "            values are removed. \n",
    "    \n",
    "    \"\"\"\n",
    "    \n",
    "    # Remove id variables other than grouping variable\n",
    "    for col in df:\n",
    "        if col != parent_var and 'SK_ID' in col:\n",
    "            df = df.drop(columns = col)\n",
    "            \n",
    "    # Only want the numeric variables\n",
    "    parent_ids = df[parent_var].copy()\n",
    "    numeric_df = df.select_dtypes('number').copy()\n",
    "    numeric_df[parent_var] = parent_ids\n",
    "\n",
    "    # Group by the specified variable and calculate the statistics\n",
    "    agg = numeric_df.groupby(parent_var).agg(['count', 'mean', 'max', 'min', 'sum'])\n",
    "\n",
    "    # Need to create new column names\n",
    "    columns = []\n",
    "\n",
    "    # Iterate through the variables names\n",
    "    for var in agg.columns.levels[0]:\n",
    "        if var != parent_var:\n",
    "            # Iterate through the stat names\n",
    "            for stat in agg.columns.levels[1]:\n",
    "                # Make a new column name for the variable and stat\n",
    "                columns.append('%s_%s_%s' % (df_name, var, stat))\n",
    "    \n",
    "    agg.columns = columns\n",
    "    \n",
    "    # Remove the columns with all redundant values\n",
    "    _, idx = np.unique(agg, axis = 1, return_index=True)\n",
    "    agg = agg.iloc[:, idx]\n",
    "    \n",
    "    return agg"
   ]
  },
  {
   "cell_type": "code",
   "execution_count": 16,
   "metadata": {},
   "outputs": [],
   "source": [
    "def agg_categorical(df, parent_var, df_name):\n",
    "    \"\"\"\n",
    "    Aggregates the categorical features in a child dataframe\n",
    "    for each observation of the parent variable.\n",
    "    \n",
    "    Parameters\n",
    "    --------\n",
    "    df : dataframe \n",
    "        The dataframe to calculate the value counts for.\n",
    "        \n",
    "    parent_var : string\n",
    "        The variable by which to group and aggregate the dataframe. For each unique\n",
    "        value of this variable, the final dataframe will have one row\n",
    "        \n",
    "    df_name : string\n",
    "        Variable added to the front of column names to keep track of columns\n",
    "\n",
    "    \n",
    "    Return\n",
    "    --------\n",
    "    categorical : dataframe\n",
    "        A dataframe with aggregated statistics for each observation of the parent_var\n",
    "        The columns are also renamed and columns with duplicate values are removed.\n",
    "        \n",
    "    \"\"\"\n",
    "    \n",
    "    # Select the categorical columns\n",
    "    categorical = pd.get_dummies(df.select_dtypes('object'))\n",
    "\n",
    "    # Make sure to put the identifying id on the column\n",
    "    categorical[parent_var] = df[parent_var]\n",
    "\n",
    "    # Groupby the group var and calculate the sum and mean\n",
    "    categorical = categorical.groupby(parent_var).agg(['sum', 'count', 'mean'])\n",
    "    \n",
    "    column_names = []\n",
    "    \n",
    "    # Iterate through the columns in level 0\n",
    "    for var in categorical.columns.levels[0]:\n",
    "        # Iterate through the stats in level 1\n",
    "        for stat in ['sum', 'count', 'mean']:\n",
    "            # Make a new column name\n",
    "            column_names.append('%s_%s_%s' % (df_name, var, stat))\n",
    "    \n",
    "    categorical.columns = column_names\n",
    "    \n",
    "    # Remove duplicate columns by values\n",
    "    _, idx = np.unique(categorical, axis = 1, return_index = True)\n",
    "    categorical = categorical.iloc[:, idx]\n",
    "    \n",
    "    return categorical"
   ]
  },
  {
   "cell_type": "code",
   "execution_count": 17,
   "metadata": {},
   "outputs": [
    {
     "data": {
      "text/html": [
       "<div>\n",
       "<style scoped>\n",
       "    .dataframe tbody tr th:only-of-type {\n",
       "        vertical-align: middle;\n",
       "    }\n",
       "\n",
       "    .dataframe tbody tr th {\n",
       "        vertical-align: top;\n",
       "    }\n",
       "\n",
       "    .dataframe thead th {\n",
       "        text-align: right;\n",
       "    }\n",
       "</style>\n",
       "<table border=\"1\" class=\"dataframe\">\n",
       "  <thead>\n",
       "    <tr style=\"text-align: right;\">\n",
       "      <th></th>\n",
       "      <th>test_Survived_min</th>\n",
       "      <th>test_Parch_mean</th>\n",
       "      <th>test_SibSp_mean</th>\n",
       "      <th>test_Survived_mean</th>\n",
       "      <th>test_Survived_max</th>\n",
       "      <th>test_SibSp_max</th>\n",
       "      <th>test_Parch_max</th>\n",
       "      <th>test_Age_mean</th>\n",
       "      <th>test_Parch_sum</th>\n",
       "      <th>test_Age_max</th>\n",
       "      <th>test_Fare_mean</th>\n",
       "      <th>test_SibSp_sum</th>\n",
       "      <th>test_Survived_sum</th>\n",
       "      <th>test_Survived_count</th>\n",
       "      <th>test_Fare_max</th>\n",
       "      <th>test_Age_sum</th>\n",
       "      <th>test_Fare_sum</th>\n",
       "    </tr>\n",
       "    <tr>\n",
       "      <th>Pclass</th>\n",
       "      <th></th>\n",
       "      <th></th>\n",
       "      <th></th>\n",
       "      <th></th>\n",
       "      <th></th>\n",
       "      <th></th>\n",
       "      <th></th>\n",
       "      <th></th>\n",
       "      <th></th>\n",
       "      <th></th>\n",
       "      <th></th>\n",
       "      <th></th>\n",
       "      <th></th>\n",
       "      <th></th>\n",
       "      <th></th>\n",
       "      <th></th>\n",
       "      <th></th>\n",
       "    </tr>\n",
       "  </thead>\n",
       "  <tbody>\n",
       "    <tr>\n",
       "      <th>1</th>\n",
       "      <td>0</td>\n",
       "      <td>0.356481</td>\n",
       "      <td>0.416667</td>\n",
       "      <td>0.629630</td>\n",
       "      <td>1</td>\n",
       "      <td>3</td>\n",
       "      <td>4</td>\n",
       "      <td>38.222222</td>\n",
       "      <td>77</td>\n",
       "      <td>80</td>\n",
       "      <td>84.154687</td>\n",
       "      <td>90</td>\n",
       "      <td>136</td>\n",
       "      <td>216</td>\n",
       "      <td>512.3292</td>\n",
       "      <td>8256</td>\n",
       "      <td>18177.4125</td>\n",
       "    </tr>\n",
       "    <tr>\n",
       "      <th>2</th>\n",
       "      <td>0</td>\n",
       "      <td>0.380435</td>\n",
       "      <td>0.402174</td>\n",
       "      <td>0.472826</td>\n",
       "      <td>1</td>\n",
       "      <td>3</td>\n",
       "      <td>3</td>\n",
       "      <td>30.043478</td>\n",
       "      <td>70</td>\n",
       "      <td>70</td>\n",
       "      <td>20.662183</td>\n",
       "      <td>74</td>\n",
       "      <td>87</td>\n",
       "      <td>184</td>\n",
       "      <td>73.5000</td>\n",
       "      <td>5528</td>\n",
       "      <td>3801.8417</td>\n",
       "    </tr>\n",
       "    <tr>\n",
       "      <th>3</th>\n",
       "      <td>0</td>\n",
       "      <td>0.393075</td>\n",
       "      <td>0.615071</td>\n",
       "      <td>0.242363</td>\n",
       "      <td>1</td>\n",
       "      <td>8</td>\n",
       "      <td>6</td>\n",
       "      <td>24.959267</td>\n",
       "      <td>193</td>\n",
       "      <td>74</td>\n",
       "      <td>13.675550</td>\n",
       "      <td>302</td>\n",
       "      <td>119</td>\n",
       "      <td>491</td>\n",
       "      <td>69.5500</td>\n",
       "      <td>12255</td>\n",
       "      <td>6714.6951</td>\n",
       "    </tr>\n",
       "  </tbody>\n",
       "</table>\n",
       "</div>"
      ],
      "text/plain": [
       "        test_Survived_min  test_Parch_mean  test_SibSp_mean  \\\n",
       "Pclass                                                        \n",
       "1                       0         0.356481         0.416667   \n",
       "2                       0         0.380435         0.402174   \n",
       "3                       0         0.393075         0.615071   \n",
       "\n",
       "        test_Survived_mean  test_Survived_max  test_SibSp_max  test_Parch_max  \\\n",
       "Pclass                                                                          \n",
       "1                 0.629630                  1               3               4   \n",
       "2                 0.472826                  1               3               3   \n",
       "3                 0.242363                  1               8               6   \n",
       "\n",
       "        test_Age_mean  test_Parch_sum  test_Age_max  test_Fare_mean  \\\n",
       "Pclass                                                                \n",
       "1           38.222222              77            80       84.154687   \n",
       "2           30.043478              70            70       20.662183   \n",
       "3           24.959267             193            74       13.675550   \n",
       "\n",
       "        test_SibSp_sum  test_Survived_sum  test_Survived_count  test_Fare_max  \\\n",
       "Pclass                                                                          \n",
       "1                   90                136                  216       512.3292   \n",
       "2                   74                 87                  184        73.5000   \n",
       "3                  302                119                  491        69.5500   \n",
       "\n",
       "        test_Age_sum  test_Fare_sum  \n",
       "Pclass                               \n",
       "1               8256     18177.4125  \n",
       "2               5528      3801.8417  \n",
       "3              12255      6714.6951  "
      ]
     },
     "execution_count": 17,
     "metadata": {},
     "output_type": "execute_result"
    }
   ],
   "source": [
    "test = agg_numeric(train_df,'Pclass','test')\n",
    "test.head()"
   ]
  },
  {
   "cell_type": "code",
   "execution_count": 18,
   "metadata": {},
   "outputs": [
    {
     "data": {
      "text/html": [
       "<div>\n",
       "<style scoped>\n",
       "    .dataframe tbody tr th:only-of-type {\n",
       "        vertical-align: middle;\n",
       "    }\n",
       "\n",
       "    .dataframe tbody tr th {\n",
       "        vertical-align: top;\n",
       "    }\n",
       "\n",
       "    .dataframe thead th {\n",
       "        text-align: right;\n",
       "    }\n",
       "</style>\n",
       "<table border=\"1\" class=\"dataframe\">\n",
       "  <thead>\n",
       "    <tr style=\"text-align: right;\">\n",
       "      <th></th>\n",
       "      <th>test_Embarked_Q_mean</th>\n",
       "      <th>test_Embarked_C_mean</th>\n",
       "      <th>test_Sex_female_mean</th>\n",
       "      <th>test_Sex_male_mean</th>\n",
       "      <th>test_Embarked_S_mean</th>\n",
       "      <th>test_Embarked_Q_sum</th>\n",
       "      <th>test_Embarked_C_sum</th>\n",
       "      <th>test_Sex_female_sum</th>\n",
       "      <th>test_Sex_male_sum</th>\n",
       "      <th>test_Embarked_S_sum</th>\n",
       "      <th>test_Sex_female_count</th>\n",
       "    </tr>\n",
       "    <tr>\n",
       "      <th>Pclass</th>\n",
       "      <th></th>\n",
       "      <th></th>\n",
       "      <th></th>\n",
       "      <th></th>\n",
       "      <th></th>\n",
       "      <th></th>\n",
       "      <th></th>\n",
       "      <th></th>\n",
       "      <th></th>\n",
       "      <th></th>\n",
       "      <th></th>\n",
       "    </tr>\n",
       "  </thead>\n",
       "  <tbody>\n",
       "    <tr>\n",
       "      <th>1</th>\n",
       "      <td>0.009259</td>\n",
       "      <td>0.393519</td>\n",
       "      <td>0.435185</td>\n",
       "      <td>0.564815</td>\n",
       "      <td>0.597222</td>\n",
       "      <td>2</td>\n",
       "      <td>85</td>\n",
       "      <td>94</td>\n",
       "      <td>122.0</td>\n",
       "      <td>129.0</td>\n",
       "      <td>216</td>\n",
       "    </tr>\n",
       "    <tr>\n",
       "      <th>2</th>\n",
       "      <td>0.016304</td>\n",
       "      <td>0.092391</td>\n",
       "      <td>0.413043</td>\n",
       "      <td>0.586957</td>\n",
       "      <td>0.891304</td>\n",
       "      <td>3</td>\n",
       "      <td>17</td>\n",
       "      <td>76</td>\n",
       "      <td>108.0</td>\n",
       "      <td>164.0</td>\n",
       "      <td>184</td>\n",
       "    </tr>\n",
       "    <tr>\n",
       "      <th>3</th>\n",
       "      <td>0.146640</td>\n",
       "      <td>0.134420</td>\n",
       "      <td>0.293279</td>\n",
       "      <td>0.706721</td>\n",
       "      <td>0.718941</td>\n",
       "      <td>72</td>\n",
       "      <td>66</td>\n",
       "      <td>144</td>\n",
       "      <td>347.0</td>\n",
       "      <td>353.0</td>\n",
       "      <td>491</td>\n",
       "    </tr>\n",
       "  </tbody>\n",
       "</table>\n",
       "</div>"
      ],
      "text/plain": [
       "        test_Embarked_Q_mean  test_Embarked_C_mean  test_Sex_female_mean  \\\n",
       "Pclass                                                                     \n",
       "1                   0.009259              0.393519              0.435185   \n",
       "2                   0.016304              0.092391              0.413043   \n",
       "3                   0.146640              0.134420              0.293279   \n",
       "\n",
       "        test_Sex_male_mean  test_Embarked_S_mean  test_Embarked_Q_sum  \\\n",
       "Pclass                                                                  \n",
       "1                 0.564815              0.597222                    2   \n",
       "2                 0.586957              0.891304                    3   \n",
       "3                 0.706721              0.718941                   72   \n",
       "\n",
       "        test_Embarked_C_sum  test_Sex_female_sum  test_Sex_male_sum  \\\n",
       "Pclass                                                                \n",
       "1                        85                   94              122.0   \n",
       "2                        17                   76              108.0   \n",
       "3                        66                  144              347.0   \n",
       "\n",
       "        test_Embarked_S_sum  test_Sex_female_count  \n",
       "Pclass                                              \n",
       "1                     129.0                    216  \n",
       "2                     164.0                    184  \n",
       "3                     353.0                    491  "
      ]
     },
     "execution_count": 18,
     "metadata": {},
     "output_type": "execute_result"
    }
   ],
   "source": [
    "test = agg_categorical(train_df,'Pclass','test')\n",
    "test.head()"
   ]
  },
  {
   "cell_type": "code",
   "execution_count": 19,
   "metadata": {},
   "outputs": [],
   "source": [
    "def agg_child(df, parent_var, df_name):\n",
    "    \"\"\"Aggregate a child dataframe for each observation of the parent.\"\"\"\n",
    "    \n",
    "    # Numeric and then categorical\n",
    "    df_agg = agg_numeric(df, parent_var, df_name)\n",
    "    df_agg_cat = agg_categorical(df, parent_var, df_name)\n",
    "    \n",
    "    # Merge on the parent variable\n",
    "    df_info = df_agg.merge(df_agg_cat, on = parent_var, how = 'outer')\n",
    "    \n",
    "    # Remove any columns with duplicate values\n",
    "    _, idx = np.unique(df_info, axis = 1, return_index = True)\n",
    "    df_info = df_info.iloc[:, idx]\n",
    "    \n",
    "    # memory management\n",
    "    gc.enable()\n",
    "    del df_agg, df_agg_cat\n",
    "    gc.collect()\n",
    "    \n",
    "    return df_info"
   ]
  },
  {
   "cell_type": "code",
   "execution_count": 20,
   "metadata": {},
   "outputs": [
    {
     "data": {
      "text/html": [
       "<div>\n",
       "<style scoped>\n",
       "    .dataframe tbody tr th:only-of-type {\n",
       "        vertical-align: middle;\n",
       "    }\n",
       "\n",
       "    .dataframe tbody tr th {\n",
       "        vertical-align: top;\n",
       "    }\n",
       "\n",
       "    .dataframe thead th {\n",
       "        text-align: right;\n",
       "    }\n",
       "</style>\n",
       "<table border=\"1\" class=\"dataframe\">\n",
       "  <thead>\n",
       "    <tr style=\"text-align: right;\">\n",
       "      <th></th>\n",
       "      <th>test_Survived_min</th>\n",
       "      <th>test_Embarked_Q_mean</th>\n",
       "      <th>test_Parch_mean</th>\n",
       "      <th>test_Embarked_C_mean</th>\n",
       "      <th>test_SibSp_mean</th>\n",
       "      <th>test_Sex_female_mean</th>\n",
       "      <th>test_Sex_male_mean</th>\n",
       "      <th>test_Embarked_S_mean</th>\n",
       "      <th>test_Survived_mean</th>\n",
       "      <th>test_Survived_max</th>\n",
       "      <th>...</th>\n",
       "      <th>test_Embarked_C_sum</th>\n",
       "      <th>test_SibSp_sum</th>\n",
       "      <th>test_Sex_female_sum</th>\n",
       "      <th>test_Sex_male_sum</th>\n",
       "      <th>test_Embarked_S_sum</th>\n",
       "      <th>test_Survived_sum</th>\n",
       "      <th>test_Survived_count</th>\n",
       "      <th>test_Fare_max</th>\n",
       "      <th>test_Age_sum</th>\n",
       "      <th>test_Fare_sum</th>\n",
       "    </tr>\n",
       "    <tr>\n",
       "      <th>Pclass</th>\n",
       "      <th></th>\n",
       "      <th></th>\n",
       "      <th></th>\n",
       "      <th></th>\n",
       "      <th></th>\n",
       "      <th></th>\n",
       "      <th></th>\n",
       "      <th></th>\n",
       "      <th></th>\n",
       "      <th></th>\n",
       "      <th></th>\n",
       "      <th></th>\n",
       "      <th></th>\n",
       "      <th></th>\n",
       "      <th></th>\n",
       "      <th></th>\n",
       "      <th></th>\n",
       "      <th></th>\n",
       "      <th></th>\n",
       "      <th></th>\n",
       "      <th></th>\n",
       "    </tr>\n",
       "  </thead>\n",
       "  <tbody>\n",
       "    <tr>\n",
       "      <th>1</th>\n",
       "      <td>0</td>\n",
       "      <td>0.009259</td>\n",
       "      <td>0.356481</td>\n",
       "      <td>0.393519</td>\n",
       "      <td>0.416667</td>\n",
       "      <td>0.435185</td>\n",
       "      <td>0.564815</td>\n",
       "      <td>0.597222</td>\n",
       "      <td>0.629630</td>\n",
       "      <td>1</td>\n",
       "      <td>...</td>\n",
       "      <td>85</td>\n",
       "      <td>90</td>\n",
       "      <td>94</td>\n",
       "      <td>122.0</td>\n",
       "      <td>129.0</td>\n",
       "      <td>136</td>\n",
       "      <td>216</td>\n",
       "      <td>512.3292</td>\n",
       "      <td>8256</td>\n",
       "      <td>18177.4125</td>\n",
       "    </tr>\n",
       "    <tr>\n",
       "      <th>2</th>\n",
       "      <td>0</td>\n",
       "      <td>0.016304</td>\n",
       "      <td>0.380435</td>\n",
       "      <td>0.092391</td>\n",
       "      <td>0.402174</td>\n",
       "      <td>0.413043</td>\n",
       "      <td>0.586957</td>\n",
       "      <td>0.891304</td>\n",
       "      <td>0.472826</td>\n",
       "      <td>1</td>\n",
       "      <td>...</td>\n",
       "      <td>17</td>\n",
       "      <td>74</td>\n",
       "      <td>76</td>\n",
       "      <td>108.0</td>\n",
       "      <td>164.0</td>\n",
       "      <td>87</td>\n",
       "      <td>184</td>\n",
       "      <td>73.5000</td>\n",
       "      <td>5528</td>\n",
       "      <td>3801.8417</td>\n",
       "    </tr>\n",
       "    <tr>\n",
       "      <th>3</th>\n",
       "      <td>0</td>\n",
       "      <td>0.146640</td>\n",
       "      <td>0.393075</td>\n",
       "      <td>0.134420</td>\n",
       "      <td>0.615071</td>\n",
       "      <td>0.293279</td>\n",
       "      <td>0.706721</td>\n",
       "      <td>0.718941</td>\n",
       "      <td>0.242363</td>\n",
       "      <td>1</td>\n",
       "      <td>...</td>\n",
       "      <td>66</td>\n",
       "      <td>302</td>\n",
       "      <td>144</td>\n",
       "      <td>347.0</td>\n",
       "      <td>353.0</td>\n",
       "      <td>119</td>\n",
       "      <td>491</td>\n",
       "      <td>69.5500</td>\n",
       "      <td>12255</td>\n",
       "      <td>6714.6951</td>\n",
       "    </tr>\n",
       "  </tbody>\n",
       "</table>\n",
       "<p>3 rows × 27 columns</p>\n",
       "</div>"
      ],
      "text/plain": [
       "        test_Survived_min  test_Embarked_Q_mean  test_Parch_mean  \\\n",
       "Pclass                                                             \n",
       "1                       0              0.009259         0.356481   \n",
       "2                       0              0.016304         0.380435   \n",
       "3                       0              0.146640         0.393075   \n",
       "\n",
       "        test_Embarked_C_mean  test_SibSp_mean  test_Sex_female_mean  \\\n",
       "Pclass                                                                \n",
       "1                   0.393519         0.416667              0.435185   \n",
       "2                   0.092391         0.402174              0.413043   \n",
       "3                   0.134420         0.615071              0.293279   \n",
       "\n",
       "        test_Sex_male_mean  test_Embarked_S_mean  test_Survived_mean  \\\n",
       "Pclass                                                                 \n",
       "1                 0.564815              0.597222            0.629630   \n",
       "2                 0.586957              0.891304            0.472826   \n",
       "3                 0.706721              0.718941            0.242363   \n",
       "\n",
       "        test_Survived_max      ...        test_Embarked_C_sum  test_SibSp_sum  \\\n",
       "Pclass                         ...                                              \n",
       "1                       1      ...                         85              90   \n",
       "2                       1      ...                         17              74   \n",
       "3                       1      ...                         66             302   \n",
       "\n",
       "        test_Sex_female_sum  test_Sex_male_sum  test_Embarked_S_sum  \\\n",
       "Pclass                                                                \n",
       "1                        94              122.0                129.0   \n",
       "2                        76              108.0                164.0   \n",
       "3                       144              347.0                353.0   \n",
       "\n",
       "        test_Survived_sum  test_Survived_count  test_Fare_max  test_Age_sum  \\\n",
       "Pclass                                                                        \n",
       "1                     136                  216       512.3292          8256   \n",
       "2                      87                  184        73.5000          5528   \n",
       "3                     119                  491        69.5500         12255   \n",
       "\n",
       "        test_Fare_sum  \n",
       "Pclass                 \n",
       "1          18177.4125  \n",
       "2           3801.8417  \n",
       "3           6714.6951  \n",
       "\n",
       "[3 rows x 27 columns]"
      ]
     },
     "execution_count": 20,
     "metadata": {},
     "output_type": "execute_result"
    }
   ],
   "source": [
    "test = agg_child(train_df,'Pclass','test')\n",
    "test.head()"
   ]
  },
  {
   "cell_type": "markdown",
   "metadata": {},
   "source": [
    "## Model building"
   ]
  },
  {
   "cell_type": "markdown",
   "metadata": {},
   "source": [
    "### Hyper parameter tuning with hyperopt"
   ]
  },
  {
   "cell_type": "code",
   "execution_count": 21,
   "metadata": {},
   "outputs": [],
   "source": [
    "train = train_df.copy()\n",
    "train['Sex'] = train_df['Sex'].map({'male':0, 'female':1}).astype(int)\n",
    "train['Embarked'] = train_df['Embarked'].map({'S':0, 'C':1, 'Q':2}).astype(int)"
   ]
  },
  {
   "cell_type": "code",
   "execution_count": 22,
   "metadata": {},
   "outputs": [],
   "source": [
    "X_train = train.drop(columns=['Survived']).values\n",
    "y_train = train_df['Survived'].values"
   ]
  },
  {
   "cell_type": "code",
   "execution_count": 23,
   "metadata": {},
   "outputs": [],
   "source": [
    "params_grid = {'n_estimators': 100+hp.randint('n_estimators', 100),\n",
    "              'num_leaves': 20+hp.randint('num_leaves',30),\n",
    "              'min_child_samples': 10+hp.randint('min_child_samples', 10),\n",
    "              'colsample_bytree': hp.uniform('colsample_by_tree', 0.8, 1.0),\n",
    "              'reg_lambda': hp.uniform('reg_lambda', 0.0, 1.0)}"
   ]
  },
  {
   "cell_type": "code",
   "execution_count": 24,
   "metadata": {},
   "outputs": [
    {
     "data": {
      "text/plain": [
       "<matplotlib.axes._subplots.AxesSubplot at 0x7ff16cceaf98>"
      ]
     },
     "execution_count": 24,
     "metadata": {},
     "output_type": "execute_result"
    },
    {
     "data": {
      "image/png": "[encoded data removed]",
      "text/plain": [
       "<Figure size 432x288 with 1 Axes>"
      ]
     },
     "metadata": {
      "needs_background": "light"
     },
     "output_type": "display_data"
    }
   ],
   "source": [
    "test_dist = []\n",
    "for _ in range(1000):\n",
    "    test_dist.append(sample(params_grid)['n_estimators'])\n",
    "    \n",
    "sns.kdeplot(test_dist)"
   ]
  },
  {
   "cell_type": "code",
   "execution_count": 25,
   "metadata": {},
   "outputs": [],
   "source": [
    "x = sample(params_grid)"
   ]
  },
  {
   "cell_type": "code",
   "execution_count": 26,
   "metadata": {},
   "outputs": [
    {
     "data": {
      "text/plain": [
       "{'colsample_bytree': 0.9949325244006281,\n",
       " 'min_child_samples': 18,\n",
       " 'n_estimators': 115,\n",
       " 'num_leaves': 38,\n",
       " 'reg_lambda': 0.24751681969990247}"
      ]
     },
     "execution_count": 26,
     "metadata": {},
     "output_type": "execute_result"
    }
   ],
   "source": [
    "x"
   ]
  },
  {
   "cell_type": "code",
   "execution_count": 27,
   "metadata": {},
   "outputs": [],
   "source": [
    "from hyperopt import STATUS_OK\n",
    "from timeit import default_timer as timer\n",
    "from sklearn.model_selection import cross_val_score\n",
    "from sklearn.model_selection import KFold, StratifiedKFold"
   ]
  },
  {
   "cell_type": "code",
   "execution_count": 28,
   "metadata": {},
   "outputs": [],
   "source": [
    "def objective(hyperparameters):\n",
    "    \"\"\"Objective function for Gradient Boosting Machine Hyperparameter Optimization.\n",
    "       Writes a new line to `outfile` on every iteration\"\"\"\n",
    "    clf_lgb = lgb.LGBMClassifier(n_jobs=4)\n",
    "    clf_lgb.set_params(**hyperparameters)\n",
    "    shuffle = StratifiedKFold(n_splits=5, shuffle=True)\n",
    "    score = cross_val_score(clf_lgb, X_train, y_train, cv=shuffle, scoring='roc_auc', n_jobs=4)\n",
    "    loss = 1-score.mean()\n",
    "    # Dictionary with information for evaluation\n",
    "    return {'loss': loss, 'hyperparameters': hyperparameters,'status': STATUS_OK}"
   ]
  },
  {
   "cell_type": "code",
   "execution_count": 29,
   "metadata": {},
   "outputs": [],
   "source": [
    "from hyperopt import tpe\n",
    "from hyperopt import Trials\n",
    "from hyperopt import fmin\n",
    "\n",
    "tpe_algorithm = tpe.suggest\n",
    "trials = Trials()"
   ]
  },
  {
   "cell_type": "code",
   "execution_count": 58,
   "metadata": {},
   "outputs": [],
   "source": [
    "best = fmin(fn=objective, space=params_grid, algo=tpe_algorithm, trials=trials, max_evals=100)"
   ]
  },
  {
   "cell_type": "code",
   "execution_count": 59,
   "metadata": {},
   "outputs": [],
   "source": [
    "from hyperopt import space_eval\n",
    "\n",
    "param_values = [x['misc']['vals'] for x in trials.trials]\n",
    "param_values = [{key:value for key in x for value in x[key]} for x in param_values]\n",
    "param_values = [space_eval(params_grid, x) for x in param_values]"
   ]
  },
  {
   "cell_type": "code",
   "execution_count": 60,
   "metadata": {},
   "outputs": [],
   "source": [
    "param_df = pd.DataFrame(param_values)\n",
    "param_df['auc_score'] = [1-x for x in trials.losses()]\n",
    "param_df.index.name = 'Iteration'"
   ]
  },
  {
   "cell_type": "code",
   "execution_count": 61,
   "metadata": {},
   "outputs": [
    {
     "data": {
      "image/png": "[encoded data removed]",
      "text/plain": [
       "<Figure size 576x360 with 1 Axes>"
      ]
     },
     "metadata": {
      "needs_background": "light"
     },
     "output_type": "display_data"
    },
    {
     "data": {
      "image/png": "[encoded data removed]",
      "text/plain": [
       "<Figure size 576x360 with 1 Axes>"
      ]
     },
     "metadata": {
      "needs_background": "light"
     },
     "output_type": "display_data"
    },
    {
     "data": {
      "image/png": "[encoded data removed]",
      "text/plain": [
       "<Figure size 576x360 with 1 Axes>"
      ]
     },
     "metadata": {
      "needs_background": "light"
     },
     "output_type": "display_data"
    },
    {
     "data": {
      "image/png": "[encoded data removed]",
      "text/plain": [
       "<Figure size 576x360 with 1 Axes>"
      ]
     },
     "metadata": {
      "needs_background": "light"
     },
     "output_type": "display_data"
    },
    {
     "data": {
      "image/png": "[encoded data removed]",
      "text/plain": [
       "<Figure size 576x360 with 1 Axes>"
      ]
     },
     "metadata": {
      "needs_background": "light"
     },
     "output_type": "display_data"
    },
    {
     "data": {
      "image/png": "[encoded data removed]",
      "text/plain": [
       "<Figure size 576x360 with 1 Axes>"
      ]
     },
     "metadata": {
      "needs_background": "light"
     },
     "output_type": "display_data"
    }
   ],
   "source": [
    "for column in param_df.columns:\n",
    "    fig = plt.figure()\n",
    "    plt.scatter(param_df.index, param_df[column])\n",
    "    plt.xlabel('Iteration')\n",
    "    plt.ylabel(column)"
   ]
  },
  {
   "cell_type": "code",
   "execution_count": 66,
   "metadata": {},
   "outputs": [
    {
     "name": "stdout",
     "output_type": "stream",
     "text": [
      "{'reg_lambda': 0.5692707062695207, 'n_estimators': 138, 'min_child_samples': 19, 'colsample_bytree': 0.9182329795783539, 'num_leaves': 41}\n"
     ]
    }
   ],
   "source": [
    "best_params = space_eval(params_grid, best)\n",
    "print(best_params)"
   ]
  },
  {
   "cell_type": "markdown",
   "metadata": {},
   "source": [
    "### Ensemble with mlxtend"
   ]
  },
  {
   "cell_type": "code",
   "execution_count": 72,
   "metadata": {},
   "outputs": [],
   "source": [
    "clfs = []\n",
    "folds = 8\n",
    "for i in range(folds):\n",
    "    clf_lgb = lgb.LGBMClassifier(random_state=i)\n",
    "    clf_lgb.set_params(**best_params)\n",
    "    clfs.append(clf_lgb)\n",
    "\n",
    "lr = LogisticRegression() \n",
    "sclf = StackingClassifier(classifiers=clfs, use_probas=True, meta_classifier=lr)\n",
    "eclf = EnsembleVoteClassifier(clfs=clfs, voting='soft')"
   ]
  },
  {
   "cell_type": "code",
   "execution_count": 49,
   "metadata": {},
   "outputs": [
    {
     "name": "stdout",
     "output_type": "stream",
     "text": [
      "Accuracy model 1: 0.813\n",
      "Accuracy model 2: 0.815\n",
      "Accuracy model 3: 0.809\n",
      "Accuracy model 4: 0.817\n",
      "Accuracy model 5: 0.815\n",
      "Accuracy model 6: 0.819\n",
      "Accuracy model 7: 0.808\n",
      "Accuracy model 8: 0.814\n"
     ]
    }
   ],
   "source": [
    "for i in range(len(clfs)):\n",
    "    scores = cross_val_score(clfs[i], X_train, y_train, cv=4, scoring='accuracy')\n",
    "    print(\"Accuracy model %i: %0.3f\" %(i+1, np.mean(scores)))"
   ]
  },
  {
   "cell_type": "code",
   "execution_count": 50,
   "metadata": {},
   "outputs": [
    {
     "name": "stdout",
     "output_type": "stream",
     "text": [
      "Accuracy stacked model: 0.816\n"
     ]
    }
   ],
   "source": [
    "scores = cross_val_score(sclf, X_train, y_train, cv=4, scoring='accuracy')\n",
    "print(\"Accuracy stacked model: %0.3f\" %(np.mean(scores)))"
   ]
  },
  {
   "cell_type": "code",
   "execution_count": 73,
   "metadata": {},
   "outputs": [
    {
     "name": "stdout",
     "output_type": "stream",
     "text": [
      "Accuracy vote model: 0.815\n"
     ]
    }
   ],
   "source": [
    "scores = cross_val_score(eclf, X_train, y_train, cv=4, scoring='accuracy')\n",
    "print(\"Accuracy vote model: %0.3f\" %(np.mean(scores)))"
   ]
  },
  {
   "cell_type": "code",
   "execution_count": 67,
   "metadata": {},
   "outputs": [
    {
     "name": "stdout",
     "output_type": "stream",
     "text": [
      "Accuracy voting model: 0.815\n"
     ]
    }
   ],
   "source": [
    "clfs = []\n",
    "folds = 8\n",
    "for i in range(folds):\n",
    "    clf_lgb = lgb.LGBMClassifier(random_state=i)\n",
    "    clf_lgb.set_params(**best_params)\n",
    "    clfs.append(('lgbm%i'%i,clf_lgb))\n",
    "    \n",
    "vc = VotingClassifier(clfs, voting='soft')\n",
    "scores = cross_val_score(vc, X_train, y_train, cv=4, scoring='accuracy')\n",
    "print(\"Accuracy voting model: %0.3f\" %(np.mean(scores)))"
   ]
  },
  {
   "cell_type": "code",
   "execution_count": null,
   "metadata": {},
   "outputs": [],
   "source": []
  },
  {
   "cell_type": "code",
   "execution_count": null,
   "metadata": {},
   "outputs": [],
   "source": []
  },
  {
   "cell_type": "code",
   "execution_count": null,
   "metadata": {},
   "outputs": [],
   "source": []
  },
  {
   "cell_type": "code",
   "execution_count": null,
   "metadata": {},
   "outputs": [],
   "source": []
  },
  {
   "cell_type": "code",
   "execution_count": null,
   "metadata": {},
   "outputs": [],
   "source": []
  },
  {
   "cell_type": "code",
   "execution_count": null,
   "metadata": {},
   "outputs": [],
   "source": []
  },
  {
   "cell_type": "code",
   "execution_count": null,
   "metadata": {},
   "outputs": [],
   "source": []
  }
 ],
 "metadata": {
  "kernelspec": {
   "display_name": "Python 3",
   "language": "python",
   "name": "python3"
  },
  "language_info": {
   "codemirror_mode": {
    "name": "ipython",
    "version": 3
   },
   "file_extension": ".py",
   "mimetype": "text/x-python",
   "name": "python",
   "nbconvert_exporter": "python",
   "pygments_lexer": "ipython3",
   "version": "3.5.6"
  }
 },
 "nbformat": 4,
 "nbformat_minor": 2
}
